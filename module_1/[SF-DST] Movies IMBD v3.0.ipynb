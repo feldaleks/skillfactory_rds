{
 "cells": [
  {
   "cell_type": "code",
   "execution_count": 3,
   "metadata": {
    "_cell_guid": "b1076dfc-b9ad-4769-8c92-a6c4dae69d19",
    "_uuid": "8f2839f25d086af736a60e9eeb907d3b93b6e0e5"
   },
   "outputs": [
    {
     "name": "stdout",
     "output_type": "stream",
     "text": [
      "['.ipynb_checkpoints', 'data', 'data.csv', 'data.zip', 'data_copy', 'data_sf.csv', 'log.csv', 'module_0_main.ipynb', 'movies.csv', 'movies_example.txt', 'Python-1.ipynb', 'Python-2.ipynb', 'Python-2_data.json', 'Python-3.ipynb', 'Python-3_StudentsPerformance.csv', 'Python-4.ipynb', 'Python-5.ipynb', 'Python-6.ipynb', 'Python-7.ipynb', 'Python-8_Data_cleaning.ipynb', 'ratings.csv', 'ratings_example.txt', 'sample.csv', 'sample.xls', 'Unit-1.ipynb', 'users.csv', '[SF-DST] Movies IMBD v3.0.ipynb']\n"
     ]
    }
   ],
   "source": [
    "import numpy as np\n",
    "import pandas as pd\n",
    "import seaborn as sns\n",
    "import matplotlib.pyplot as plt\n",
    "import os\n",
    "from collections import Counter\n",
    "print(os.listdir())"
   ]
  },
  {
   "cell_type": "code",
   "execution_count": 4,
   "metadata": {},
   "outputs": [
    {
     "data": {
      "text/html": [
       "<div>\n",
       "<style scoped>\n",
       "    .dataframe tbody tr th:only-of-type {\n",
       "        vertical-align: middle;\n",
       "    }\n",
       "\n",
       "    .dataframe tbody tr th {\n",
       "        vertical-align: top;\n",
       "    }\n",
       "\n",
       "    .dataframe thead th {\n",
       "        text-align: right;\n",
       "    }\n",
       "</style>\n",
       "<table border=\"1\" class=\"dataframe\">\n",
       "  <thead>\n",
       "    <tr style=\"text-align: right;\">\n",
       "      <th></th>\n",
       "      <th>imdb_id</th>\n",
       "      <th>popularity</th>\n",
       "      <th>budget</th>\n",
       "      <th>revenue</th>\n",
       "      <th>original_title</th>\n",
       "      <th>cast</th>\n",
       "      <th>director</th>\n",
       "      <th>tagline</th>\n",
       "      <th>overview</th>\n",
       "      <th>runtime</th>\n",
       "      <th>genres</th>\n",
       "      <th>production_companies</th>\n",
       "      <th>release_date</th>\n",
       "      <th>vote_count</th>\n",
       "      <th>vote_average</th>\n",
       "      <th>release_year</th>\n",
       "    </tr>\n",
       "  </thead>\n",
       "  <tbody>\n",
       "    <tr>\n",
       "      <td>0</td>\n",
       "      <td>tt0369610</td>\n",
       "      <td>32.985763</td>\n",
       "      <td>150000000</td>\n",
       "      <td>1513528810</td>\n",
       "      <td>Jurassic World</td>\n",
       "      <td>Chris Pratt|Bryce Dallas Howard|Irrfan Khan|Vi...</td>\n",
       "      <td>Colin Trevorrow</td>\n",
       "      <td>The park is open.</td>\n",
       "      <td>Twenty-two years after the events of Jurassic ...</td>\n",
       "      <td>124</td>\n",
       "      <td>Action|Adventure|Science Fiction|Thriller</td>\n",
       "      <td>Universal Studios|Amblin Entertainment|Legenda...</td>\n",
       "      <td>6/9/2015</td>\n",
       "      <td>5562</td>\n",
       "      <td>6.5</td>\n",
       "      <td>2015</td>\n",
       "    </tr>\n",
       "    <tr>\n",
       "      <td>1</td>\n",
       "      <td>tt1392190</td>\n",
       "      <td>28.419936</td>\n",
       "      <td>150000000</td>\n",
       "      <td>378436354</td>\n",
       "      <td>Mad Max: Fury Road</td>\n",
       "      <td>Tom Hardy|Charlize Theron|Hugh Keays-Byrne|Nic...</td>\n",
       "      <td>George Miller</td>\n",
       "      <td>What a Lovely Day.</td>\n",
       "      <td>An apocalyptic story set in the furthest reach...</td>\n",
       "      <td>120</td>\n",
       "      <td>Action|Adventure|Science Fiction|Thriller</td>\n",
       "      <td>Village Roadshow Pictures|Kennedy Miller Produ...</td>\n",
       "      <td>5/13/2015</td>\n",
       "      <td>6185</td>\n",
       "      <td>7.1</td>\n",
       "      <td>2015</td>\n",
       "    </tr>\n",
       "    <tr>\n",
       "      <td>2</td>\n",
       "      <td>tt2908446</td>\n",
       "      <td>13.112507</td>\n",
       "      <td>110000000</td>\n",
       "      <td>295238201</td>\n",
       "      <td>Insurgent</td>\n",
       "      <td>Shailene Woodley|Theo James|Kate Winslet|Ansel...</td>\n",
       "      <td>Robert Schwentke</td>\n",
       "      <td>One Choice Can Destroy You</td>\n",
       "      <td>Beatrice Prior must confront her inner demons ...</td>\n",
       "      <td>119</td>\n",
       "      <td>Adventure|Science Fiction|Thriller</td>\n",
       "      <td>Summit Entertainment|Mandeville Films|Red Wago...</td>\n",
       "      <td>3/18/2015</td>\n",
       "      <td>2480</td>\n",
       "      <td>6.3</td>\n",
       "      <td>2015</td>\n",
       "    </tr>\n",
       "    <tr>\n",
       "      <td>3</td>\n",
       "      <td>tt2488496</td>\n",
       "      <td>11.173104</td>\n",
       "      <td>200000000</td>\n",
       "      <td>2068178225</td>\n",
       "      <td>Star Wars: The Force Awakens</td>\n",
       "      <td>Harrison Ford|Mark Hamill|Carrie Fisher|Adam D...</td>\n",
       "      <td>J.J. Abrams</td>\n",
       "      <td>Every generation has a story.</td>\n",
       "      <td>Thirty years after defeating the Galactic Empi...</td>\n",
       "      <td>136</td>\n",
       "      <td>Action|Adventure|Science Fiction|Fantasy</td>\n",
       "      <td>Lucasfilm|Truenorth Productions|Bad Robot</td>\n",
       "      <td>12/15/2015</td>\n",
       "      <td>5292</td>\n",
       "      <td>7.5</td>\n",
       "      <td>2015</td>\n",
       "    </tr>\n",
       "    <tr>\n",
       "      <td>4</td>\n",
       "      <td>tt2820852</td>\n",
       "      <td>9.335014</td>\n",
       "      <td>190000000</td>\n",
       "      <td>1506249360</td>\n",
       "      <td>Furious 7</td>\n",
       "      <td>Vin Diesel|Paul Walker|Jason Statham|Michelle ...</td>\n",
       "      <td>James Wan</td>\n",
       "      <td>Vengeance Hits Home</td>\n",
       "      <td>Deckard Shaw seeks revenge against Dominic Tor...</td>\n",
       "      <td>137</td>\n",
       "      <td>Action|Crime|Thriller</td>\n",
       "      <td>Universal Pictures|Original Film|Media Rights ...</td>\n",
       "      <td>4/1/2015</td>\n",
       "      <td>2947</td>\n",
       "      <td>7.3</td>\n",
       "      <td>2015</td>\n",
       "    </tr>\n",
       "  </tbody>\n",
       "</table>\n",
       "</div>"
      ],
      "text/plain": [
       "     imdb_id  popularity     budget     revenue                original_title  \\\n",
       "0  tt0369610   32.985763  150000000  1513528810                Jurassic World   \n",
       "1  tt1392190   28.419936  150000000   378436354            Mad Max: Fury Road   \n",
       "2  tt2908446   13.112507  110000000   295238201                     Insurgent   \n",
       "3  tt2488496   11.173104  200000000  2068178225  Star Wars: The Force Awakens   \n",
       "4  tt2820852    9.335014  190000000  1506249360                     Furious 7   \n",
       "\n",
       "                                                cast          director  \\\n",
       "0  Chris Pratt|Bryce Dallas Howard|Irrfan Khan|Vi...   Colin Trevorrow   \n",
       "1  Tom Hardy|Charlize Theron|Hugh Keays-Byrne|Nic...     George Miller   \n",
       "2  Shailene Woodley|Theo James|Kate Winslet|Ansel...  Robert Schwentke   \n",
       "3  Harrison Ford|Mark Hamill|Carrie Fisher|Adam D...       J.J. Abrams   \n",
       "4  Vin Diesel|Paul Walker|Jason Statham|Michelle ...         James Wan   \n",
       "\n",
       "                         tagline  \\\n",
       "0              The park is open.   \n",
       "1             What a Lovely Day.   \n",
       "2     One Choice Can Destroy You   \n",
       "3  Every generation has a story.   \n",
       "4            Vengeance Hits Home   \n",
       "\n",
       "                                            overview  runtime  \\\n",
       "0  Twenty-two years after the events of Jurassic ...      124   \n",
       "1  An apocalyptic story set in the furthest reach...      120   \n",
       "2  Beatrice Prior must confront her inner demons ...      119   \n",
       "3  Thirty years after defeating the Galactic Empi...      136   \n",
       "4  Deckard Shaw seeks revenge against Dominic Tor...      137   \n",
       "\n",
       "                                      genres  \\\n",
       "0  Action|Adventure|Science Fiction|Thriller   \n",
       "1  Action|Adventure|Science Fiction|Thriller   \n",
       "2         Adventure|Science Fiction|Thriller   \n",
       "3   Action|Adventure|Science Fiction|Fantasy   \n",
       "4                      Action|Crime|Thriller   \n",
       "\n",
       "                                production_companies release_date  vote_count  \\\n",
       "0  Universal Studios|Amblin Entertainment|Legenda...     6/9/2015        5562   \n",
       "1  Village Roadshow Pictures|Kennedy Miller Produ...    5/13/2015        6185   \n",
       "2  Summit Entertainment|Mandeville Films|Red Wago...    3/18/2015        2480   \n",
       "3          Lucasfilm|Truenorth Productions|Bad Robot   12/15/2015        5292   \n",
       "4  Universal Pictures|Original Film|Media Rights ...     4/1/2015        2947   \n",
       "\n",
       "   vote_average  release_year  \n",
       "0           6.5          2015  \n",
       "1           7.1          2015  \n",
       "2           6.3          2015  \n",
       "3           7.5          2015  \n",
       "4           7.3          2015  "
      ]
     },
     "execution_count": 4,
     "metadata": {},
     "output_type": "execute_result"
    }
   ],
   "source": [
    "data = pd.read_csv('data.csv')\n",
    "data.head(5)"
   ]
  },
  {
   "cell_type": "code",
   "execution_count": 5,
   "metadata": {},
   "outputs": [
    {
     "data": {
      "text/plain": [
       "1890"
      ]
     },
     "execution_count": 5,
     "metadata": {},
     "output_type": "execute_result"
    }
   ],
   "source": [
    "len(data)"
   ]
  },
  {
   "cell_type": "markdown",
   "metadata": {},
   "source": [
    "# Предобработка датасета"
   ]
  },
  {
   "cell_type": "code",
   "execution_count": 6,
   "metadata": {},
   "outputs": [],
   "source": [
    "answer_ls = [] # создадим список с ответами. сюда будем добавлять ответы по мере прохождения теста\n",
    "# сюда можем вписать создание новых колонок в датасете"
   ]
  },
  {
   "cell_type": "markdown",
   "metadata": {},
   "source": [
    "# 1. У какого фильма из списка самый большой бюджет?\n",
    "Варианты ответов:\n",
    "1. The Dark Knight Rises (tt1345836)\n",
    "2. Spider-Man 3 (tt0413300)\n",
    "3. Avengers: Age of Ultron (tt2395427)\n",
    "4. The Warrior's Way\t(tt1032751)\n",
    "5. Pirates of the Caribbean: On Stranger Tides (tt1298650)"
   ]
  },
  {
   "cell_type": "code",
   "execution_count": 9,
   "metadata": {},
   "outputs": [
    {
     "data": {
      "text/html": [
       "<div>\n",
       "<style scoped>\n",
       "    .dataframe tbody tr th:only-of-type {\n",
       "        vertical-align: middle;\n",
       "    }\n",
       "\n",
       "    .dataframe tbody tr th {\n",
       "        vertical-align: top;\n",
       "    }\n",
       "\n",
       "    .dataframe thead th {\n",
       "        text-align: right;\n",
       "    }\n",
       "</style>\n",
       "<table border=\"1\" class=\"dataframe\">\n",
       "  <thead>\n",
       "    <tr style=\"text-align: right;\">\n",
       "      <th></th>\n",
       "      <th>imdb_id</th>\n",
       "      <th>popularity</th>\n",
       "      <th>budget</th>\n",
       "      <th>revenue</th>\n",
       "      <th>original_title</th>\n",
       "      <th>cast</th>\n",
       "      <th>director</th>\n",
       "      <th>tagline</th>\n",
       "      <th>overview</th>\n",
       "      <th>runtime</th>\n",
       "      <th>genres</th>\n",
       "      <th>production_companies</th>\n",
       "      <th>release_date</th>\n",
       "      <th>vote_count</th>\n",
       "      <th>vote_average</th>\n",
       "      <th>release_year</th>\n",
       "    </tr>\n",
       "  </thead>\n",
       "  <tbody>\n",
       "    <tr>\n",
       "      <td>491</td>\n",
       "      <td>tt1032751</td>\n",
       "      <td>0.250540</td>\n",
       "      <td>425000000</td>\n",
       "      <td>11087569</td>\n",
       "      <td>The Warrior's Way</td>\n",
       "      <td>Kate Bosworth|Jang Dong-gun|Geoffrey Rush|Dann...</td>\n",
       "      <td>Sngmoo Lee</td>\n",
       "      <td>Assassin. Hero. Legend.</td>\n",
       "      <td>An Asian assassin (Dong-gun Jang) is forced to...</td>\n",
       "      <td>100</td>\n",
       "      <td>Adventure|Fantasy|Action|Western|Thriller</td>\n",
       "      <td>Boram Entertainment Inc.</td>\n",
       "      <td>12/2/2010</td>\n",
       "      <td>74</td>\n",
       "      <td>6.4</td>\n",
       "      <td>2010</td>\n",
       "    </tr>\n",
       "    <tr>\n",
       "      <td>724</td>\n",
       "      <td>tt1298650</td>\n",
       "      <td>4.955130</td>\n",
       "      <td>380000000</td>\n",
       "      <td>1021683000</td>\n",
       "      <td>Pirates of the Caribbean: On Stranger Tides</td>\n",
       "      <td>Johnny Depp|PenÃ©lope Cruz|Geoffrey Rush|Ian M...</td>\n",
       "      <td>Rob Marshall</td>\n",
       "      <td>Live Forever Or Die Trying.</td>\n",
       "      <td>Captain Jack Sparrow crosses paths with a woma...</td>\n",
       "      <td>136</td>\n",
       "      <td>Adventure|Action|Fantasy</td>\n",
       "      <td>Walt Disney Pictures|Jerry Bruckheimer Films|M...</td>\n",
       "      <td>5/11/2011</td>\n",
       "      <td>3180</td>\n",
       "      <td>6.3</td>\n",
       "      <td>2011</td>\n",
       "    </tr>\n",
       "    <tr>\n",
       "      <td>1670</td>\n",
       "      <td>tt0449088</td>\n",
       "      <td>4.965391</td>\n",
       "      <td>300000000</td>\n",
       "      <td>961000000</td>\n",
       "      <td>Pirates of the Caribbean: At World's End</td>\n",
       "      <td>Johnny Depp|Orlando Bloom|Keira Knightley|Geof...</td>\n",
       "      <td>Gore Verbinski</td>\n",
       "      <td>At the end of the world, the adventure begins.</td>\n",
       "      <td>Captain Barbossa, long believed to be dead, ha...</td>\n",
       "      <td>169</td>\n",
       "      <td>Adventure|Fantasy|Action</td>\n",
       "      <td>Walt Disney Pictures|Jerry Bruckheimer Films|S...</td>\n",
       "      <td>5/19/2007</td>\n",
       "      <td>2626</td>\n",
       "      <td>6.8</td>\n",
       "      <td>2007</td>\n",
       "    </tr>\n",
       "    <tr>\n",
       "      <td>14</td>\n",
       "      <td>tt2395427</td>\n",
       "      <td>5.944927</td>\n",
       "      <td>280000000</td>\n",
       "      <td>1405035767</td>\n",
       "      <td>Avengers: Age of Ultron</td>\n",
       "      <td>Robert Downey Jr.|Chris Hemsworth|Mark Ruffalo...</td>\n",
       "      <td>Joss Whedon</td>\n",
       "      <td>A New Age Has Come.</td>\n",
       "      <td>When Tony Stark tries to jumpstart a dormant p...</td>\n",
       "      <td>141</td>\n",
       "      <td>Action|Adventure|Science Fiction</td>\n",
       "      <td>Marvel Studios|Prime Focus|Revolution Sun Studios</td>\n",
       "      <td>4/22/2015</td>\n",
       "      <td>4304</td>\n",
       "      <td>7.4</td>\n",
       "      <td>2015</td>\n",
       "    </tr>\n",
       "    <tr>\n",
       "      <td>1015</td>\n",
       "      <td>tt0401729</td>\n",
       "      <td>1.588457</td>\n",
       "      <td>260000000</td>\n",
       "      <td>284139100</td>\n",
       "      <td>John Carter</td>\n",
       "      <td>Taylor Kitsch|Lynn Collins|Mark Strong|Willem ...</td>\n",
       "      <td>Andrew Stanton</td>\n",
       "      <td>Lost in Our World. Found in Another.</td>\n",
       "      <td>Civil War vet John Carter is transplanted to M...</td>\n",
       "      <td>132</td>\n",
       "      <td>Action|Adventure|Fantasy|Science Fiction</td>\n",
       "      <td>Walt Disney Pictures</td>\n",
       "      <td>3/7/2012</td>\n",
       "      <td>1479</td>\n",
       "      <td>6.0</td>\n",
       "      <td>2012</td>\n",
       "    </tr>\n",
       "  </tbody>\n",
       "</table>\n",
       "</div>"
      ],
      "text/plain": [
       "        imdb_id  popularity     budget     revenue  \\\n",
       "491   tt1032751    0.250540  425000000    11087569   \n",
       "724   tt1298650    4.955130  380000000  1021683000   \n",
       "1670  tt0449088    4.965391  300000000   961000000   \n",
       "14    tt2395427    5.944927  280000000  1405035767   \n",
       "1015  tt0401729    1.588457  260000000   284139100   \n",
       "\n",
       "                                   original_title  \\\n",
       "491                             The Warrior's Way   \n",
       "724   Pirates of the Caribbean: On Stranger Tides   \n",
       "1670     Pirates of the Caribbean: At World's End   \n",
       "14                        Avengers: Age of Ultron   \n",
       "1015                                  John Carter   \n",
       "\n",
       "                                                   cast        director  \\\n",
       "491   Kate Bosworth|Jang Dong-gun|Geoffrey Rush|Dann...      Sngmoo Lee   \n",
       "724   Johnny Depp|PenÃ©lope Cruz|Geoffrey Rush|Ian M...    Rob Marshall   \n",
       "1670  Johnny Depp|Orlando Bloom|Keira Knightley|Geof...  Gore Verbinski   \n",
       "14    Robert Downey Jr.|Chris Hemsworth|Mark Ruffalo...     Joss Whedon   \n",
       "1015  Taylor Kitsch|Lynn Collins|Mark Strong|Willem ...  Andrew Stanton   \n",
       "\n",
       "                                             tagline  \\\n",
       "491                          Assassin. Hero. Legend.   \n",
       "724                      Live Forever Or Die Trying.   \n",
       "1670  At the end of the world, the adventure begins.   \n",
       "14                               A New Age Has Come.   \n",
       "1015            Lost in Our World. Found in Another.   \n",
       "\n",
       "                                               overview  runtime  \\\n",
       "491   An Asian assassin (Dong-gun Jang) is forced to...      100   \n",
       "724   Captain Jack Sparrow crosses paths with a woma...      136   \n",
       "1670  Captain Barbossa, long believed to be dead, ha...      169   \n",
       "14    When Tony Stark tries to jumpstart a dormant p...      141   \n",
       "1015  Civil War vet John Carter is transplanted to M...      132   \n",
       "\n",
       "                                         genres  \\\n",
       "491   Adventure|Fantasy|Action|Western|Thriller   \n",
       "724                    Adventure|Action|Fantasy   \n",
       "1670                   Adventure|Fantasy|Action   \n",
       "14             Action|Adventure|Science Fiction   \n",
       "1015   Action|Adventure|Fantasy|Science Fiction   \n",
       "\n",
       "                                   production_companies release_date  \\\n",
       "491                            Boram Entertainment Inc.    12/2/2010   \n",
       "724   Walt Disney Pictures|Jerry Bruckheimer Films|M...    5/11/2011   \n",
       "1670  Walt Disney Pictures|Jerry Bruckheimer Films|S...    5/19/2007   \n",
       "14    Marvel Studios|Prime Focus|Revolution Sun Studios    4/22/2015   \n",
       "1015                               Walt Disney Pictures     3/7/2012   \n",
       "\n",
       "      vote_count  vote_average  release_year  \n",
       "491           74           6.4          2010  \n",
       "724         3180           6.3          2011  \n",
       "1670        2626           6.8          2007  \n",
       "14          4304           7.4          2015  \n",
       "1015        1479           6.0          2012  "
      ]
     },
     "execution_count": 9,
     "metadata": {},
     "output_type": "execute_result"
    }
   ],
   "source": [
    "data.sort_values(by = 'budget', ascending = False).head(5)"
   ]
  },
  {
   "cell_type": "code",
   "execution_count": 7,
   "metadata": {},
   "outputs": [],
   "source": [
    "# тут вводим ваш ответ и добавлем в его список ответов (сейчас для примера стоит \"1\")\n",
    "answer_ls.append(4)"
   ]
  },
  {
   "cell_type": "markdown",
   "metadata": {},
   "source": [
    "# 2. Какой из фильмов самый длительный (в минутах)\n",
    "1. The Lord of the Rings: The Return of the King\t(tt0167260)\n",
    "2. Gods and Generals\t(tt0279111)\n",
    "3. King Kong\t(tt0360717)\n",
    "4. Pearl Harbor\t(tt0213149)\n",
    "5. Alexander\t(tt0346491)"
   ]
  },
  {
   "cell_type": "code",
   "execution_count": 10,
   "metadata": {},
   "outputs": [
    {
     "data": {
      "text/html": [
       "<div>\n",
       "<style scoped>\n",
       "    .dataframe tbody tr th:only-of-type {\n",
       "        vertical-align: middle;\n",
       "    }\n",
       "\n",
       "    .dataframe tbody tr th {\n",
       "        vertical-align: top;\n",
       "    }\n",
       "\n",
       "    .dataframe thead th {\n",
       "        text-align: right;\n",
       "    }\n",
       "</style>\n",
       "<table border=\"1\" class=\"dataframe\">\n",
       "  <thead>\n",
       "    <tr style=\"text-align: right;\">\n",
       "      <th></th>\n",
       "      <th>imdb_id</th>\n",
       "      <th>popularity</th>\n",
       "      <th>budget</th>\n",
       "      <th>revenue</th>\n",
       "      <th>original_title</th>\n",
       "      <th>cast</th>\n",
       "      <th>director</th>\n",
       "      <th>tagline</th>\n",
       "      <th>overview</th>\n",
       "      <th>runtime</th>\n",
       "      <th>genres</th>\n",
       "      <th>production_companies</th>\n",
       "      <th>release_date</th>\n",
       "      <th>vote_count</th>\n",
       "      <th>vote_average</th>\n",
       "      <th>release_year</th>\n",
       "    </tr>\n",
       "  </thead>\n",
       "  <tbody>\n",
       "    <tr>\n",
       "      <td>1158</td>\n",
       "      <td>tt0279111</td>\n",
       "      <td>0.469518</td>\n",
       "      <td>56000000</td>\n",
       "      <td>12923936</td>\n",
       "      <td>Gods and Generals</td>\n",
       "      <td>Stephen Lang|Jeff Daniels|Robert Duvall|Kevin ...</td>\n",
       "      <td>Ronald F. Maxwell</td>\n",
       "      <td>The nations heart was touched by...</td>\n",
       "      <td>The film centers mostly around the personal an...</td>\n",
       "      <td>214</td>\n",
       "      <td>Drama|History|War</td>\n",
       "      <td>Turner Pictures|Antietam Filmworks</td>\n",
       "      <td>2/21/2003</td>\n",
       "      <td>23</td>\n",
       "      <td>5.8</td>\n",
       "      <td>2003</td>\n",
       "    </tr>\n",
       "    <tr>\n",
       "      <td>1082</td>\n",
       "      <td>tt0167260</td>\n",
       "      <td>7.122455</td>\n",
       "      <td>94000000</td>\n",
       "      <td>1118888979</td>\n",
       "      <td>The Lord of the Rings: The Return of the King</td>\n",
       "      <td>Elijah Wood|Ian McKellen|Viggo Mortensen|Liv T...</td>\n",
       "      <td>Peter Jackson</td>\n",
       "      <td>The eye of the enemy is moving.</td>\n",
       "      <td>Aragorn is revealed as the heir to the ancient...</td>\n",
       "      <td>201</td>\n",
       "      <td>Adventure|Fantasy|Action</td>\n",
       "      <td>WingNut Films|New Line Cinema</td>\n",
       "      <td>12/1/2003</td>\n",
       "      <td>5636</td>\n",
       "      <td>7.9</td>\n",
       "      <td>2003</td>\n",
       "    </tr>\n",
       "    <tr>\n",
       "      <td>1737</td>\n",
       "      <td>tt0462322</td>\n",
       "      <td>0.906938</td>\n",
       "      <td>67000000</td>\n",
       "      <td>25037897</td>\n",
       "      <td>Grindhouse</td>\n",
       "      <td>Kurt Russell|ZoÃ« Bell|Rosario Dawson|Vanessa ...</td>\n",
       "      <td>Robert Rodriguez|Eli Roth|Quentin Tarantino|Ed...</td>\n",
       "      <td>A double feature that'll tear you in two!</td>\n",
       "      <td>Two full length feature horror movies written ...</td>\n",
       "      <td>191</td>\n",
       "      <td>Thriller|Action|Horror</td>\n",
       "      <td>Big Talk Productions|Yer Dead Productions|Wein...</td>\n",
       "      <td>4/6/2007</td>\n",
       "      <td>197</td>\n",
       "      <td>6.5</td>\n",
       "      <td>2007</td>\n",
       "    </tr>\n",
       "    <tr>\n",
       "      <td>1337</td>\n",
       "      <td>tt0360717</td>\n",
       "      <td>1.508329</td>\n",
       "      <td>207000000</td>\n",
       "      <td>550000000</td>\n",
       "      <td>King Kong</td>\n",
       "      <td>Naomi Watts|Jack Black|Adrien Brody|Thomas Kre...</td>\n",
       "      <td>Peter Jackson</td>\n",
       "      <td>The eighth wonder of the world.</td>\n",
       "      <td>In 1933 New York, an overly ambitious movie pr...</td>\n",
       "      <td>187</td>\n",
       "      <td>Adventure|Drama|Action</td>\n",
       "      <td>WingNut Films|Universal Pictures|Big Primate P...</td>\n",
       "      <td>12/14/2005</td>\n",
       "      <td>1289</td>\n",
       "      <td>6.4</td>\n",
       "      <td>2005</td>\n",
       "    </tr>\n",
       "    <tr>\n",
       "      <td>505</td>\n",
       "      <td>tt0213149</td>\n",
       "      <td>2.478879</td>\n",
       "      <td>140000000</td>\n",
       "      <td>449220945</td>\n",
       "      <td>Pearl Harbor</td>\n",
       "      <td>Ben Affleck|Josh Hartnett|Kate Beckinsale|Cuba...</td>\n",
       "      <td>Michael Bay</td>\n",
       "      <td>December 7, 1941 - A day that shall live in in...</td>\n",
       "      <td>The lifelong friendship between Rafe McCawley ...</td>\n",
       "      <td>183</td>\n",
       "      <td>History|Romance|War</td>\n",
       "      <td>Jerry Bruckheimer Films|Touchstone Pictures</td>\n",
       "      <td>5/21/2001</td>\n",
       "      <td>1044</td>\n",
       "      <td>6.6</td>\n",
       "      <td>2001</td>\n",
       "    </tr>\n",
       "  </tbody>\n",
       "</table>\n",
       "</div>"
      ],
      "text/plain": [
       "        imdb_id  popularity     budget     revenue  \\\n",
       "1158  tt0279111    0.469518   56000000    12923936   \n",
       "1082  tt0167260    7.122455   94000000  1118888979   \n",
       "1737  tt0462322    0.906938   67000000    25037897   \n",
       "1337  tt0360717    1.508329  207000000   550000000   \n",
       "505   tt0213149    2.478879  140000000   449220945   \n",
       "\n",
       "                                     original_title  \\\n",
       "1158                              Gods and Generals   \n",
       "1082  The Lord of the Rings: The Return of the King   \n",
       "1737                                     Grindhouse   \n",
       "1337                                      King Kong   \n",
       "505                                    Pearl Harbor   \n",
       "\n",
       "                                                   cast  \\\n",
       "1158  Stephen Lang|Jeff Daniels|Robert Duvall|Kevin ...   \n",
       "1082  Elijah Wood|Ian McKellen|Viggo Mortensen|Liv T...   \n",
       "1737  Kurt Russell|ZoÃ« Bell|Rosario Dawson|Vanessa ...   \n",
       "1337  Naomi Watts|Jack Black|Adrien Brody|Thomas Kre...   \n",
       "505   Ben Affleck|Josh Hartnett|Kate Beckinsale|Cuba...   \n",
       "\n",
       "                                               director  \\\n",
       "1158                                  Ronald F. Maxwell   \n",
       "1082                                      Peter Jackson   \n",
       "1737  Robert Rodriguez|Eli Roth|Quentin Tarantino|Ed...   \n",
       "1337                                      Peter Jackson   \n",
       "505                                         Michael Bay   \n",
       "\n",
       "                                                tagline  \\\n",
       "1158                The nations heart was touched by...   \n",
       "1082                    The eye of the enemy is moving.   \n",
       "1737          A double feature that'll tear you in two!   \n",
       "1337                    The eighth wonder of the world.   \n",
       "505   December 7, 1941 - A day that shall live in in...   \n",
       "\n",
       "                                               overview  runtime  \\\n",
       "1158  The film centers mostly around the personal an...      214   \n",
       "1082  Aragorn is revealed as the heir to the ancient...      201   \n",
       "1737  Two full length feature horror movies written ...      191   \n",
       "1337  In 1933 New York, an overly ambitious movie pr...      187   \n",
       "505   The lifelong friendship between Rafe McCawley ...      183   \n",
       "\n",
       "                        genres  \\\n",
       "1158         Drama|History|War   \n",
       "1082  Adventure|Fantasy|Action   \n",
       "1737    Thriller|Action|Horror   \n",
       "1337    Adventure|Drama|Action   \n",
       "505        History|Romance|War   \n",
       "\n",
       "                                   production_companies release_date  \\\n",
       "1158                 Turner Pictures|Antietam Filmworks    2/21/2003   \n",
       "1082                      WingNut Films|New Line Cinema    12/1/2003   \n",
       "1737  Big Talk Productions|Yer Dead Productions|Wein...     4/6/2007   \n",
       "1337  WingNut Films|Universal Pictures|Big Primate P...   12/14/2005   \n",
       "505         Jerry Bruckheimer Films|Touchstone Pictures    5/21/2001   \n",
       "\n",
       "      vote_count  vote_average  release_year  \n",
       "1158          23           5.8          2003  \n",
       "1082        5636           7.9          2003  \n",
       "1737         197           6.5          2007  \n",
       "1337        1289           6.4          2005  \n",
       "505         1044           6.6          2001  "
      ]
     },
     "execution_count": 10,
     "metadata": {},
     "output_type": "execute_result"
    }
   ],
   "source": [
    "data.sort_values(by = 'runtime', ascending = False).head(5)"
   ]
  },
  {
   "cell_type": "code",
   "execution_count": 8,
   "metadata": {},
   "outputs": [],
   "source": [
    "answer_ls.append(2)"
   ]
  },
  {
   "cell_type": "markdown",
   "metadata": {},
   "source": [
    "# 3. Какой из фильмов самый короткий (в минутах)\n",
    "Варианты ответов:\n",
    "\n",
    "1. Home on the Range\ttt0299172\n",
    "2. The Jungle Book 2\ttt0283426\n",
    "3. Winnie the Pooh\ttt1449283\n",
    "4. Corpse Bride\ttt0121164\n",
    "5. Hoodwinked!\ttt0443536"
   ]
  },
  {
   "cell_type": "code",
   "execution_count": 11,
   "metadata": {},
   "outputs": [
    {
     "data": {
      "text/html": [
       "<div>\n",
       "<style scoped>\n",
       "    .dataframe tbody tr th:only-of-type {\n",
       "        vertical-align: middle;\n",
       "    }\n",
       "\n",
       "    .dataframe tbody tr th {\n",
       "        vertical-align: top;\n",
       "    }\n",
       "\n",
       "    .dataframe thead th {\n",
       "        text-align: right;\n",
       "    }\n",
       "</style>\n",
       "<table border=\"1\" class=\"dataframe\">\n",
       "  <thead>\n",
       "    <tr style=\"text-align: right;\">\n",
       "      <th></th>\n",
       "      <th>imdb_id</th>\n",
       "      <th>popularity</th>\n",
       "      <th>budget</th>\n",
       "      <th>revenue</th>\n",
       "      <th>original_title</th>\n",
       "      <th>cast</th>\n",
       "      <th>director</th>\n",
       "      <th>tagline</th>\n",
       "      <th>overview</th>\n",
       "      <th>runtime</th>\n",
       "      <th>genres</th>\n",
       "      <th>production_companies</th>\n",
       "      <th>release_date</th>\n",
       "      <th>vote_count</th>\n",
       "      <th>vote_average</th>\n",
       "      <th>release_year</th>\n",
       "    </tr>\n",
       "  </thead>\n",
       "  <tbody>\n",
       "    <tr>\n",
       "      <td>769</td>\n",
       "      <td>tt1449283</td>\n",
       "      <td>1.425344</td>\n",
       "      <td>30000000</td>\n",
       "      <td>14460000</td>\n",
       "      <td>Winnie the Pooh</td>\n",
       "      <td>Jim Cummings|Travis Oates|Jim Cummings|Bud Luc...</td>\n",
       "      <td>Stephen Anderson|Don Hall</td>\n",
       "      <td>Oh Pooh.</td>\n",
       "      <td>During an ordinary day in Hundred Acre Wood, W...</td>\n",
       "      <td>63</td>\n",
       "      <td>Animation|Family</td>\n",
       "      <td>Walt Disney Pictures|Walt Disney Animation Stu...</td>\n",
       "      <td>4/13/2011</td>\n",
       "      <td>174</td>\n",
       "      <td>6.8</td>\n",
       "      <td>2011</td>\n",
       "    </tr>\n",
       "    <tr>\n",
       "      <td>931</td>\n",
       "      <td>tt0280030</td>\n",
       "      <td>0.678896</td>\n",
       "      <td>20000000</td>\n",
       "      <td>109862682</td>\n",
       "      <td>Return to Never Land</td>\n",
       "      <td>Harriet Owen|Blayne Weaver|Jeff Bennett|Kath S...</td>\n",
       "      <td>Robin Budd|Donovan Cook</td>\n",
       "      <td>The Classic Continues</td>\n",
       "      <td>The classic tale of 'Peter Pan' continues in D...</td>\n",
       "      <td>72</td>\n",
       "      <td>Adventure|Fantasy|Animation|Family</td>\n",
       "      <td>Walt Disney Pictures|Walt Disney Television An...</td>\n",
       "      <td>2/14/2002</td>\n",
       "      <td>174</td>\n",
       "      <td>6.2</td>\n",
       "      <td>2002</td>\n",
       "    </tr>\n",
       "    <tr>\n",
       "      <td>1098</td>\n",
       "      <td>tt0283426</td>\n",
       "      <td>1.781615</td>\n",
       "      <td>20000000</td>\n",
       "      <td>135680000</td>\n",
       "      <td>The Jungle Book 2</td>\n",
       "      <td>John Goodman|Haley Joel Osment|Mae Whitman|Phi...</td>\n",
       "      <td>Steve Trenbirth</td>\n",
       "      <td>Feel the jungle beat</td>\n",
       "      <td>Mowgli, missing the jungle and his old friends...</td>\n",
       "      <td>72</td>\n",
       "      <td>Family|Animation|Adventure</td>\n",
       "      <td>Walt Disney Pictures|Walt Disney Television An...</td>\n",
       "      <td>2/7/2003</td>\n",
       "      <td>156</td>\n",
       "      <td>5.6</td>\n",
       "      <td>2003</td>\n",
       "    </tr>\n",
       "    <tr>\n",
       "      <td>1627</td>\n",
       "      <td>tt0299172</td>\n",
       "      <td>0.837906</td>\n",
       "      <td>110000000</td>\n",
       "      <td>103951461</td>\n",
       "      <td>Home on the Range</td>\n",
       "      <td>Randy Quaid|Steve Buscemi|Judi Dench|Cuba Good...</td>\n",
       "      <td>Will Finn|John Sanford</td>\n",
       "      <td>Bust a Moo.</td>\n",
       "      <td>The Little Piece of Heaven family farm is abou...</td>\n",
       "      <td>76</td>\n",
       "      <td>Western|Animation|Family|Comedy|Music</td>\n",
       "      <td>Walt Disney Pictures|Walt Disney Feature Anima...</td>\n",
       "      <td>4/2/2004</td>\n",
       "      <td>210</td>\n",
       "      <td>5.8</td>\n",
       "      <td>2004</td>\n",
       "    </tr>\n",
       "    <tr>\n",
       "      <td>1409</td>\n",
       "      <td>tt0361089</td>\n",
       "      <td>0.558258</td>\n",
       "      <td>35000000</td>\n",
       "      <td>19478106</td>\n",
       "      <td>Valiant</td>\n",
       "      <td>Ewan McGregor|Ricky Gervais|Tim Curry|Jim Broa...</td>\n",
       "      <td>Gary Chapman</td>\n",
       "      <td>Some pigeons eat crumbs, others make history.</td>\n",
       "      <td>The animated comedy tells the story of a lowly...</td>\n",
       "      <td>76</td>\n",
       "      <td>Animation|Family|Adventure</td>\n",
       "      <td>Vanguard Films|Scanbox</td>\n",
       "      <td>3/25/2005</td>\n",
       "      <td>138</td>\n",
       "      <td>5.3</td>\n",
       "      <td>2005</td>\n",
       "    </tr>\n",
       "  </tbody>\n",
       "</table>\n",
       "</div>"
      ],
      "text/plain": [
       "        imdb_id  popularity     budget    revenue        original_title  \\\n",
       "769   tt1449283    1.425344   30000000   14460000       Winnie the Pooh   \n",
       "931   tt0280030    0.678896   20000000  109862682  Return to Never Land   \n",
       "1098  tt0283426    1.781615   20000000  135680000     The Jungle Book 2   \n",
       "1627  tt0299172    0.837906  110000000  103951461     Home on the Range   \n",
       "1409  tt0361089    0.558258   35000000   19478106               Valiant   \n",
       "\n",
       "                                                   cast  \\\n",
       "769   Jim Cummings|Travis Oates|Jim Cummings|Bud Luc...   \n",
       "931   Harriet Owen|Blayne Weaver|Jeff Bennett|Kath S...   \n",
       "1098  John Goodman|Haley Joel Osment|Mae Whitman|Phi...   \n",
       "1627  Randy Quaid|Steve Buscemi|Judi Dench|Cuba Good...   \n",
       "1409  Ewan McGregor|Ricky Gervais|Tim Curry|Jim Broa...   \n",
       "\n",
       "                       director  \\\n",
       "769   Stephen Anderson|Don Hall   \n",
       "931     Robin Budd|Donovan Cook   \n",
       "1098            Steve Trenbirth   \n",
       "1627     Will Finn|John Sanford   \n",
       "1409               Gary Chapman   \n",
       "\n",
       "                                            tagline  \\\n",
       "769                                        Oh Pooh.   \n",
       "931                           The Classic Continues   \n",
       "1098                           Feel the jungle beat   \n",
       "1627                                    Bust a Moo.   \n",
       "1409  Some pigeons eat crumbs, others make history.   \n",
       "\n",
       "                                               overview  runtime  \\\n",
       "769   During an ordinary day in Hundred Acre Wood, W...       63   \n",
       "931   The classic tale of 'Peter Pan' continues in D...       72   \n",
       "1098  Mowgli, missing the jungle and his old friends...       72   \n",
       "1627  The Little Piece of Heaven family farm is abou...       76   \n",
       "1409  The animated comedy tells the story of a lowly...       76   \n",
       "\n",
       "                                     genres  \\\n",
       "769                        Animation|Family   \n",
       "931      Adventure|Fantasy|Animation|Family   \n",
       "1098             Family|Animation|Adventure   \n",
       "1627  Western|Animation|Family|Comedy|Music   \n",
       "1409             Animation|Family|Adventure   \n",
       "\n",
       "                                   production_companies release_date  \\\n",
       "769   Walt Disney Pictures|Walt Disney Animation Stu...    4/13/2011   \n",
       "931   Walt Disney Pictures|Walt Disney Television An...    2/14/2002   \n",
       "1098  Walt Disney Pictures|Walt Disney Television An...     2/7/2003   \n",
       "1627  Walt Disney Pictures|Walt Disney Feature Anima...     4/2/2004   \n",
       "1409                             Vanguard Films|Scanbox    3/25/2005   \n",
       "\n",
       "      vote_count  vote_average  release_year  \n",
       "769          174           6.8          2011  \n",
       "931          174           6.2          2002  \n",
       "1098         156           5.6          2003  \n",
       "1627         210           5.8          2004  \n",
       "1409         138           5.3          2005  "
      ]
     },
     "execution_count": 11,
     "metadata": {},
     "output_type": "execute_result"
    }
   ],
   "source": [
    "data.sort_values(by = 'runtime', ascending = True).head(5)"
   ]
  },
  {
   "cell_type": "code",
   "execution_count": 12,
   "metadata": {},
   "outputs": [
    {
     "data": {
      "text/html": [
       "<div>\n",
       "<style scoped>\n",
       "    .dataframe tbody tr th:only-of-type {\n",
       "        vertical-align: middle;\n",
       "    }\n",
       "\n",
       "    .dataframe tbody tr th {\n",
       "        vertical-align: top;\n",
       "    }\n",
       "\n",
       "    .dataframe thead th {\n",
       "        text-align: right;\n",
       "    }\n",
       "</style>\n",
       "<table border=\"1\" class=\"dataframe\">\n",
       "  <thead>\n",
       "    <tr style=\"text-align: right;\">\n",
       "      <th></th>\n",
       "      <th>imdb_id</th>\n",
       "      <th>popularity</th>\n",
       "      <th>budget</th>\n",
       "      <th>revenue</th>\n",
       "      <th>original_title</th>\n",
       "      <th>cast</th>\n",
       "      <th>director</th>\n",
       "      <th>tagline</th>\n",
       "      <th>overview</th>\n",
       "      <th>runtime</th>\n",
       "      <th>genres</th>\n",
       "      <th>production_companies</th>\n",
       "      <th>release_date</th>\n",
       "      <th>vote_count</th>\n",
       "      <th>vote_average</th>\n",
       "      <th>release_year</th>\n",
       "    </tr>\n",
       "  </thead>\n",
       "  <tbody>\n",
       "    <tr>\n",
       "      <td>769</td>\n",
       "      <td>tt1449283</td>\n",
       "      <td>1.425344</td>\n",
       "      <td>30000000</td>\n",
       "      <td>14460000</td>\n",
       "      <td>Winnie the Pooh</td>\n",
       "      <td>Jim Cummings|Travis Oates|Jim Cummings|Bud Luc...</td>\n",
       "      <td>Stephen Anderson|Don Hall</td>\n",
       "      <td>Oh Pooh.</td>\n",
       "      <td>During an ordinary day in Hundred Acre Wood, W...</td>\n",
       "      <td>63</td>\n",
       "      <td>Animation|Family</td>\n",
       "      <td>Walt Disney Pictures|Walt Disney Animation Stu...</td>\n",
       "      <td>4/13/2011</td>\n",
       "      <td>174</td>\n",
       "      <td>6.8</td>\n",
       "      <td>2011</td>\n",
       "    </tr>\n",
       "    <tr>\n",
       "      <td>931</td>\n",
       "      <td>tt0280030</td>\n",
       "      <td>0.678896</td>\n",
       "      <td>20000000</td>\n",
       "      <td>109862682</td>\n",
       "      <td>Return to Never Land</td>\n",
       "      <td>Harriet Owen|Blayne Weaver|Jeff Bennett|Kath S...</td>\n",
       "      <td>Robin Budd|Donovan Cook</td>\n",
       "      <td>The Classic Continues</td>\n",
       "      <td>The classic tale of 'Peter Pan' continues in D...</td>\n",
       "      <td>72</td>\n",
       "      <td>Adventure|Fantasy|Animation|Family</td>\n",
       "      <td>Walt Disney Pictures|Walt Disney Television An...</td>\n",
       "      <td>2/14/2002</td>\n",
       "      <td>174</td>\n",
       "      <td>6.2</td>\n",
       "      <td>2002</td>\n",
       "    </tr>\n",
       "    <tr>\n",
       "      <td>1098</td>\n",
       "      <td>tt0283426</td>\n",
       "      <td>1.781615</td>\n",
       "      <td>20000000</td>\n",
       "      <td>135680000</td>\n",
       "      <td>The Jungle Book 2</td>\n",
       "      <td>John Goodman|Haley Joel Osment|Mae Whitman|Phi...</td>\n",
       "      <td>Steve Trenbirth</td>\n",
       "      <td>Feel the jungle beat</td>\n",
       "      <td>Mowgli, missing the jungle and his old friends...</td>\n",
       "      <td>72</td>\n",
       "      <td>Family|Animation|Adventure</td>\n",
       "      <td>Walt Disney Pictures|Walt Disney Television An...</td>\n",
       "      <td>2/7/2003</td>\n",
       "      <td>156</td>\n",
       "      <td>5.6</td>\n",
       "      <td>2003</td>\n",
       "    </tr>\n",
       "    <tr>\n",
       "      <td>1627</td>\n",
       "      <td>tt0299172</td>\n",
       "      <td>0.837906</td>\n",
       "      <td>110000000</td>\n",
       "      <td>103951461</td>\n",
       "      <td>Home on the Range</td>\n",
       "      <td>Randy Quaid|Steve Buscemi|Judi Dench|Cuba Good...</td>\n",
       "      <td>Will Finn|John Sanford</td>\n",
       "      <td>Bust a Moo.</td>\n",
       "      <td>The Little Piece of Heaven family farm is abou...</td>\n",
       "      <td>76</td>\n",
       "      <td>Western|Animation|Family|Comedy|Music</td>\n",
       "      <td>Walt Disney Pictures|Walt Disney Feature Anima...</td>\n",
       "      <td>4/2/2004</td>\n",
       "      <td>210</td>\n",
       "      <td>5.8</td>\n",
       "      <td>2004</td>\n",
       "    </tr>\n",
       "    <tr>\n",
       "      <td>1409</td>\n",
       "      <td>tt0361089</td>\n",
       "      <td>0.558258</td>\n",
       "      <td>35000000</td>\n",
       "      <td>19478106</td>\n",
       "      <td>Valiant</td>\n",
       "      <td>Ewan McGregor|Ricky Gervais|Tim Curry|Jim Broa...</td>\n",
       "      <td>Gary Chapman</td>\n",
       "      <td>Some pigeons eat crumbs, others make history.</td>\n",
       "      <td>The animated comedy tells the story of a lowly...</td>\n",
       "      <td>76</td>\n",
       "      <td>Animation|Family|Adventure</td>\n",
       "      <td>Vanguard Films|Scanbox</td>\n",
       "      <td>3/25/2005</td>\n",
       "      <td>138</td>\n",
       "      <td>5.3</td>\n",
       "      <td>2005</td>\n",
       "    </tr>\n",
       "  </tbody>\n",
       "</table>\n",
       "</div>"
      ],
      "text/plain": [
       "        imdb_id  popularity     budget    revenue        original_title  \\\n",
       "769   tt1449283    1.425344   30000000   14460000       Winnie the Pooh   \n",
       "931   tt0280030    0.678896   20000000  109862682  Return to Never Land   \n",
       "1098  tt0283426    1.781615   20000000  135680000     The Jungle Book 2   \n",
       "1627  tt0299172    0.837906  110000000  103951461     Home on the Range   \n",
       "1409  tt0361089    0.558258   35000000   19478106               Valiant   \n",
       "\n",
       "                                                   cast  \\\n",
       "769   Jim Cummings|Travis Oates|Jim Cummings|Bud Luc...   \n",
       "931   Harriet Owen|Blayne Weaver|Jeff Bennett|Kath S...   \n",
       "1098  John Goodman|Haley Joel Osment|Mae Whitman|Phi...   \n",
       "1627  Randy Quaid|Steve Buscemi|Judi Dench|Cuba Good...   \n",
       "1409  Ewan McGregor|Ricky Gervais|Tim Curry|Jim Broa...   \n",
       "\n",
       "                       director  \\\n",
       "769   Stephen Anderson|Don Hall   \n",
       "931     Robin Budd|Donovan Cook   \n",
       "1098            Steve Trenbirth   \n",
       "1627     Will Finn|John Sanford   \n",
       "1409               Gary Chapman   \n",
       "\n",
       "                                            tagline  \\\n",
       "769                                        Oh Pooh.   \n",
       "931                           The Classic Continues   \n",
       "1098                           Feel the jungle beat   \n",
       "1627                                    Bust a Moo.   \n",
       "1409  Some pigeons eat crumbs, others make history.   \n",
       "\n",
       "                                               overview  runtime  \\\n",
       "769   During an ordinary day in Hundred Acre Wood, W...       63   \n",
       "931   The classic tale of 'Peter Pan' continues in D...       72   \n",
       "1098  Mowgli, missing the jungle and his old friends...       72   \n",
       "1627  The Little Piece of Heaven family farm is abou...       76   \n",
       "1409  The animated comedy tells the story of a lowly...       76   \n",
       "\n",
       "                                     genres  \\\n",
       "769                        Animation|Family   \n",
       "931      Adventure|Fantasy|Animation|Family   \n",
       "1098             Family|Animation|Adventure   \n",
       "1627  Western|Animation|Family|Comedy|Music   \n",
       "1409             Animation|Family|Adventure   \n",
       "\n",
       "                                   production_companies release_date  \\\n",
       "769   Walt Disney Pictures|Walt Disney Animation Stu...    4/13/2011   \n",
       "931   Walt Disney Pictures|Walt Disney Television An...    2/14/2002   \n",
       "1098  Walt Disney Pictures|Walt Disney Television An...     2/7/2003   \n",
       "1627  Walt Disney Pictures|Walt Disney Feature Anima...     4/2/2004   \n",
       "1409                             Vanguard Films|Scanbox    3/25/2005   \n",
       "\n",
       "      vote_count  vote_average  release_year  \n",
       "769          174           6.8          2011  \n",
       "931          174           6.2          2002  \n",
       "1098         156           5.6          2003  \n",
       "1627         210           5.8          2004  \n",
       "1409         138           5.3          2005  "
      ]
     },
     "execution_count": 12,
     "metadata": {},
     "output_type": "execute_result"
    }
   ],
   "source": [
    "data.sort_values(by = 'runtime', ascending = True).head(5)"
   ]
  },
  {
   "cell_type": "code",
   "execution_count": 13,
   "metadata": {},
   "outputs": [],
   "source": [
    "answer_ls.append(3)"
   ]
  },
  {
   "cell_type": "markdown",
   "metadata": {},
   "source": [
    "# 4. Средняя длительность фильма?\n",
    "\n",
    "Варианты ответов:\n",
    "1. 115\n",
    "2. 110\n",
    "3. 105\n",
    "4. 120\n",
    "5. 100\n"
   ]
  },
  {
   "cell_type": "code",
   "execution_count": 14,
   "metadata": {},
   "outputs": [
    {
     "data": {
      "text/plain": [
       "109.65343915343915"
      ]
     },
     "execution_count": 14,
     "metadata": {},
     "output_type": "execute_result"
    }
   ],
   "source": [
    "data.runtime.mean()"
   ]
  },
  {
   "cell_type": "code",
   "execution_count": 15,
   "metadata": {},
   "outputs": [],
   "source": [
    "answer_ls.append(2)"
   ]
  },
  {
   "cell_type": "markdown",
   "metadata": {},
   "source": [
    "# 5. Средняя длительность фильма по медиане?\n",
    "Варианты ответов:\n",
    "1. 106\n",
    "2. 112\n",
    "3. 101\n",
    "4. 120\n",
    "5. 115\n",
    "\n",
    "\n"
   ]
  },
  {
   "cell_type": "code",
   "execution_count": 16,
   "metadata": {},
   "outputs": [
    {
     "name": "stdout",
     "output_type": "stream",
     "text": [
      "106.5\n"
     ]
    }
   ],
   "source": [
    "sorted_data = data.sort_values(by = 'runtime')\n",
    "lenght = len(sorted_data)\n",
    "if lenght%2 == 0:\n",
    "    #print(lenght, lenght//2, lenght//2-1, sorted_data.iloc(lenght//2).runtime,sorted_data.iloc(lenght//2 - 1).runtime)\n",
    "    median = (sorted_data.iloc[lenght//2].runtime + sorted_data.iloc[lenght//2 - 1].runtime) / 2\n",
    "else:\n",
    "    median = sorted_data.iloc[lenght//2].runtime\n",
    "print(median)"
   ]
  },
  {
   "cell_type": "code",
   "execution_count": 17,
   "metadata": {},
   "outputs": [],
   "source": [
    "answer_ls.append(1)"
   ]
  },
  {
   "cell_type": "markdown",
   "metadata": {},
   "source": [
    "# 6. Какой самый прибыльный фильм?\n",
    "Варианты ответов:\n",
    "1. The Avengers\ttt0848228\n",
    "2. Minions\ttt2293640\n",
    "3. Star Wars: The Force Awakens\ttt2488496\n",
    "4. Furious 7\ttt2820852\n",
    "5. Avatar\ttt0499549"
   ]
  },
  {
   "cell_type": "code",
   "execution_count": 18,
   "metadata": {},
   "outputs": [
    {
     "data": {
      "text/html": [
       "<div>\n",
       "<style scoped>\n",
       "    .dataframe tbody tr th:only-of-type {\n",
       "        vertical-align: middle;\n",
       "    }\n",
       "\n",
       "    .dataframe tbody tr th {\n",
       "        vertical-align: top;\n",
       "    }\n",
       "\n",
       "    .dataframe thead th {\n",
       "        text-align: right;\n",
       "    }\n",
       "</style>\n",
       "<table border=\"1\" class=\"dataframe\">\n",
       "  <thead>\n",
       "    <tr style=\"text-align: right;\">\n",
       "      <th></th>\n",
       "      <th>imdb_id</th>\n",
       "      <th>popularity</th>\n",
       "      <th>budget</th>\n",
       "      <th>revenue</th>\n",
       "      <th>original_title</th>\n",
       "      <th>cast</th>\n",
       "      <th>director</th>\n",
       "      <th>tagline</th>\n",
       "      <th>overview</th>\n",
       "      <th>runtime</th>\n",
       "      <th>genres</th>\n",
       "      <th>production_companies</th>\n",
       "      <th>release_date</th>\n",
       "      <th>vote_count</th>\n",
       "      <th>vote_average</th>\n",
       "      <th>release_year</th>\n",
       "      <th>profit</th>\n",
       "    </tr>\n",
       "  </thead>\n",
       "  <tbody>\n",
       "    <tr>\n",
       "      <td>239</td>\n",
       "      <td>tt0499549</td>\n",
       "      <td>9.432768</td>\n",
       "      <td>237000000</td>\n",
       "      <td>2781505847</td>\n",
       "      <td>Avatar</td>\n",
       "      <td>Sam Worthington|Zoe Saldana|Sigourney Weaver|S...</td>\n",
       "      <td>James Cameron</td>\n",
       "      <td>Enter the World of Pandora.</td>\n",
       "      <td>In the 22nd century, a paraplegic Marine is di...</td>\n",
       "      <td>162</td>\n",
       "      <td>Action|Adventure|Fantasy|Science Fiction</td>\n",
       "      <td>Ingenious Film Partners|Twentieth Century Fox ...</td>\n",
       "      <td>12/10/2009</td>\n",
       "      <td>8458</td>\n",
       "      <td>7.1</td>\n",
       "      <td>2009</td>\n",
       "      <td>2544505847</td>\n",
       "    </tr>\n",
       "  </tbody>\n",
       "</table>\n",
       "</div>"
      ],
      "text/plain": [
       "       imdb_id  popularity     budget     revenue original_title  \\\n",
       "239  tt0499549    9.432768  237000000  2781505847         Avatar   \n",
       "\n",
       "                                                  cast       director  \\\n",
       "239  Sam Worthington|Zoe Saldana|Sigourney Weaver|S...  James Cameron   \n",
       "\n",
       "                         tagline  \\\n",
       "239  Enter the World of Pandora.   \n",
       "\n",
       "                                              overview  runtime  \\\n",
       "239  In the 22nd century, a paraplegic Marine is di...      162   \n",
       "\n",
       "                                       genres  \\\n",
       "239  Action|Adventure|Fantasy|Science Fiction   \n",
       "\n",
       "                                  production_companies release_date  \\\n",
       "239  Ingenious Film Partners|Twentieth Century Fox ...   12/10/2009   \n",
       "\n",
       "     vote_count  vote_average  release_year      profit  \n",
       "239        8458           7.1          2009  2544505847  "
      ]
     },
     "execution_count": 18,
     "metadata": {},
     "output_type": "execute_result"
    }
   ],
   "source": [
    "data.head()\n",
    "data_plus_revenue = data\n",
    "data_plus_revenue['profit'] = data.revenue - data.budget\n",
    "data_plus_revenue[data_plus_revenue.profit == data_plus_revenue.profit.max()]"
   ]
  },
  {
   "cell_type": "code",
   "execution_count": 19,
   "metadata": {},
   "outputs": [],
   "source": [
    "answer_ls.append(5)"
   ]
  },
  {
   "cell_type": "markdown",
   "metadata": {},
   "source": [
    "# 7. Какой фильм самый убыточный?\n",
    "Варианты ответов:\n",
    "1. Supernova tt0134983\n",
    "2. The Warrior's Way tt1032751\n",
    "3. Flushed Away\ttt0424095\n",
    "4. The Adventures of Pluto Nash\ttt0180052\n",
    "5. The Lone Ranger\ttt1210819"
   ]
  },
  {
   "cell_type": "code",
   "execution_count": 20,
   "metadata": {},
   "outputs": [
    {
     "data": {
      "text/html": [
       "<div>\n",
       "<style scoped>\n",
       "    .dataframe tbody tr th:only-of-type {\n",
       "        vertical-align: middle;\n",
       "    }\n",
       "\n",
       "    .dataframe tbody tr th {\n",
       "        vertical-align: top;\n",
       "    }\n",
       "\n",
       "    .dataframe thead th {\n",
       "        text-align: right;\n",
       "    }\n",
       "</style>\n",
       "<table border=\"1\" class=\"dataframe\">\n",
       "  <thead>\n",
       "    <tr style=\"text-align: right;\">\n",
       "      <th></th>\n",
       "      <th>imdb_id</th>\n",
       "      <th>popularity</th>\n",
       "      <th>budget</th>\n",
       "      <th>revenue</th>\n",
       "      <th>original_title</th>\n",
       "      <th>cast</th>\n",
       "      <th>director</th>\n",
       "      <th>tagline</th>\n",
       "      <th>overview</th>\n",
       "      <th>runtime</th>\n",
       "      <th>genres</th>\n",
       "      <th>production_companies</th>\n",
       "      <th>release_date</th>\n",
       "      <th>vote_count</th>\n",
       "      <th>vote_average</th>\n",
       "      <th>release_year</th>\n",
       "      <th>profit</th>\n",
       "    </tr>\n",
       "  </thead>\n",
       "  <tbody>\n",
       "    <tr>\n",
       "      <td>491</td>\n",
       "      <td>tt1032751</td>\n",
       "      <td>0.25054</td>\n",
       "      <td>425000000</td>\n",
       "      <td>11087569</td>\n",
       "      <td>The Warrior's Way</td>\n",
       "      <td>Kate Bosworth|Jang Dong-gun|Geoffrey Rush|Dann...</td>\n",
       "      <td>Sngmoo Lee</td>\n",
       "      <td>Assassin. Hero. Legend.</td>\n",
       "      <td>An Asian assassin (Dong-gun Jang) is forced to...</td>\n",
       "      <td>100</td>\n",
       "      <td>Adventure|Fantasy|Action|Western|Thriller</td>\n",
       "      <td>Boram Entertainment Inc.</td>\n",
       "      <td>12/2/2010</td>\n",
       "      <td>74</td>\n",
       "      <td>6.4</td>\n",
       "      <td>2010</td>\n",
       "      <td>-413912431</td>\n",
       "    </tr>\n",
       "  </tbody>\n",
       "</table>\n",
       "</div>"
      ],
      "text/plain": [
       "       imdb_id  popularity     budget   revenue     original_title  \\\n",
       "491  tt1032751     0.25054  425000000  11087569  The Warrior's Way   \n",
       "\n",
       "                                                  cast    director  \\\n",
       "491  Kate Bosworth|Jang Dong-gun|Geoffrey Rush|Dann...  Sngmoo Lee   \n",
       "\n",
       "                     tagline  \\\n",
       "491  Assassin. Hero. Legend.   \n",
       "\n",
       "                                              overview  runtime  \\\n",
       "491  An Asian assassin (Dong-gun Jang) is forced to...      100   \n",
       "\n",
       "                                        genres      production_companies  \\\n",
       "491  Adventure|Fantasy|Action|Western|Thriller  Boram Entertainment Inc.   \n",
       "\n",
       "    release_date  vote_count  vote_average  release_year     profit  \n",
       "491    12/2/2010          74           6.4          2010 -413912431  "
      ]
     },
     "execution_count": 20,
     "metadata": {},
     "output_type": "execute_result"
    }
   ],
   "source": [
    "data_plus_revenue[data_plus_revenue.profit == data_plus_revenue.profit.min()]"
   ]
  },
  {
   "cell_type": "code",
   "execution_count": 21,
   "metadata": {},
   "outputs": [],
   "source": [
    "answer_ls.append(2)"
   ]
  },
  {
   "cell_type": "markdown",
   "metadata": {},
   "source": [
    "# 8. Сколько всего фильмов в прибыли?\n",
    "Варианты ответов:\n",
    "1. 1478\n",
    "2. 1520\n",
    "3. 1241\n",
    "4. 1135\n",
    "5. 1398\n"
   ]
  },
  {
   "cell_type": "code",
   "execution_count": 23,
   "metadata": {},
   "outputs": [
    {
     "data": {
      "text/plain": [
       "1478"
      ]
     },
     "execution_count": 23,
     "metadata": {},
     "output_type": "execute_result"
    }
   ],
   "source": [
    "data_plus_revenue[data_plus_revenue.profit > 0].profit.count()"
   ]
  },
  {
   "cell_type": "code",
   "execution_count": 24,
   "metadata": {},
   "outputs": [],
   "source": [
    "answer_ls.append(1)"
   ]
  },
  {
   "cell_type": "markdown",
   "metadata": {},
   "source": [
    "# 9. Самый прибыльный фильм в 2008 году?\n",
    "Варианты ответов:\n",
    "1. Madagascar: Escape 2 Africa\ttt0479952\n",
    "2. Iron Man\ttt0371746\n",
    "3. Kung Fu Panda\ttt0441773\n",
    "4. The Dark Knight\ttt0468569\n",
    "5. Mamma Mia!\ttt0795421"
   ]
  },
  {
   "cell_type": "code",
   "execution_count": 25,
   "metadata": {},
   "outputs": [
    {
     "data": {
      "text/html": [
       "<div>\n",
       "<style scoped>\n",
       "    .dataframe tbody tr th:only-of-type {\n",
       "        vertical-align: middle;\n",
       "    }\n",
       "\n",
       "    .dataframe tbody tr th {\n",
       "        vertical-align: top;\n",
       "    }\n",
       "\n",
       "    .dataframe thead th {\n",
       "        text-align: right;\n",
       "    }\n",
       "</style>\n",
       "<table border=\"1\" class=\"dataframe\">\n",
       "  <thead>\n",
       "    <tr style=\"text-align: right;\">\n",
       "      <th></th>\n",
       "      <th>imdb_id</th>\n",
       "      <th>popularity</th>\n",
       "      <th>budget</th>\n",
       "      <th>revenue</th>\n",
       "      <th>original_title</th>\n",
       "      <th>cast</th>\n",
       "      <th>director</th>\n",
       "      <th>tagline</th>\n",
       "      <th>overview</th>\n",
       "      <th>runtime</th>\n",
       "      <th>genres</th>\n",
       "      <th>production_companies</th>\n",
       "      <th>release_date</th>\n",
       "      <th>vote_count</th>\n",
       "      <th>vote_average</th>\n",
       "      <th>release_year</th>\n",
       "      <th>profit</th>\n",
       "    </tr>\n",
       "  </thead>\n",
       "  <tbody>\n",
       "    <tr>\n",
       "      <td>600</td>\n",
       "      <td>tt0468569</td>\n",
       "      <td>8.466668</td>\n",
       "      <td>185000000</td>\n",
       "      <td>1001921825</td>\n",
       "      <td>The Dark Knight</td>\n",
       "      <td>Christian Bale|Michael Caine|Heath Ledger|Aaro...</td>\n",
       "      <td>Christopher Nolan</td>\n",
       "      <td>Why So Serious?</td>\n",
       "      <td>Batman raises the stakes in his war on crime. ...</td>\n",
       "      <td>152</td>\n",
       "      <td>Drama|Action|Crime|Thriller</td>\n",
       "      <td>DC Comics|Legendary Pictures|Warner Bros.|Syncopy</td>\n",
       "      <td>7/16/2008</td>\n",
       "      <td>8432</td>\n",
       "      <td>8.1</td>\n",
       "      <td>2008</td>\n",
       "      <td>816921825</td>\n",
       "    </tr>\n",
       "  </tbody>\n",
       "</table>\n",
       "</div>"
      ],
      "text/plain": [
       "       imdb_id  popularity     budget     revenue   original_title  \\\n",
       "600  tt0468569    8.466668  185000000  1001921825  The Dark Knight   \n",
       "\n",
       "                                                  cast           director  \\\n",
       "600  Christian Bale|Michael Caine|Heath Ledger|Aaro...  Christopher Nolan   \n",
       "\n",
       "             tagline                                           overview  \\\n",
       "600  Why So Serious?  Batman raises the stakes in his war on crime. ...   \n",
       "\n",
       "     runtime                       genres  \\\n",
       "600      152  Drama|Action|Crime|Thriller   \n",
       "\n",
       "                                  production_companies release_date  \\\n",
       "600  DC Comics|Legendary Pictures|Warner Bros.|Syncopy    7/16/2008   \n",
       "\n",
       "     vote_count  vote_average  release_year     profit  \n",
       "600        8432           8.1          2008  816921825  "
      ]
     },
     "execution_count": 25,
     "metadata": {},
     "output_type": "execute_result"
    }
   ],
   "source": [
    "data_plus_revenue_2008 = data_plus_revenue[data_plus_revenue.release_year == 2008]\n",
    "data_plus_revenue_2008[data_plus_revenue_2008.profit == data_plus_revenue_2008.profit.max()]"
   ]
  },
  {
   "cell_type": "code",
   "execution_count": 26,
   "metadata": {},
   "outputs": [],
   "source": [
    "answer_ls.append(4)"
   ]
  },
  {
   "cell_type": "markdown",
   "metadata": {},
   "source": [
    "# 10. Самый убыточный фильм за период с 2012 по 2014 (включительно)?\n",
    "Варианты ответов:\n",
    "1. Winter's Tale\ttt1837709\n",
    "2. Stolen\ttt1656186\n",
    "3. Broken City\ttt1235522\n",
    "4. Upside Down\ttt1374992\n",
    "5. The Lone Ranger\ttt1210819\n"
   ]
  },
  {
   "cell_type": "code",
   "execution_count": 27,
   "metadata": {},
   "outputs": [
    {
     "data": {
      "text/html": [
       "<div>\n",
       "<style scoped>\n",
       "    .dataframe tbody tr th:only-of-type {\n",
       "        vertical-align: middle;\n",
       "    }\n",
       "\n",
       "    .dataframe tbody tr th {\n",
       "        vertical-align: top;\n",
       "    }\n",
       "\n",
       "    .dataframe thead th {\n",
       "        text-align: right;\n",
       "    }\n",
       "</style>\n",
       "<table border=\"1\" class=\"dataframe\">\n",
       "  <thead>\n",
       "    <tr style=\"text-align: right;\">\n",
       "      <th></th>\n",
       "      <th>imdb_id</th>\n",
       "      <th>popularity</th>\n",
       "      <th>budget</th>\n",
       "      <th>revenue</th>\n",
       "      <th>original_title</th>\n",
       "      <th>cast</th>\n",
       "      <th>director</th>\n",
       "      <th>tagline</th>\n",
       "      <th>overview</th>\n",
       "      <th>runtime</th>\n",
       "      <th>genres</th>\n",
       "      <th>production_companies</th>\n",
       "      <th>release_date</th>\n",
       "      <th>vote_count</th>\n",
       "      <th>vote_average</th>\n",
       "      <th>release_year</th>\n",
       "      <th>profit</th>\n",
       "    </tr>\n",
       "  </thead>\n",
       "  <tbody>\n",
       "    <tr>\n",
       "      <td>1246</td>\n",
       "      <td>tt1210819</td>\n",
       "      <td>1.21451</td>\n",
       "      <td>255000000</td>\n",
       "      <td>89289910</td>\n",
       "      <td>The Lone Ranger</td>\n",
       "      <td>Johnny Depp|Armie Hammer|William Fichtner|Hele...</td>\n",
       "      <td>Gore Verbinski</td>\n",
       "      <td>Never Take Off the Mask</td>\n",
       "      <td>The Texas Rangers chase down a gang of outlaws...</td>\n",
       "      <td>149</td>\n",
       "      <td>Action|Adventure|Western</td>\n",
       "      <td>Walt Disney Pictures|Jerry Bruckheimer Films|I...</td>\n",
       "      <td>7/3/2013</td>\n",
       "      <td>1607</td>\n",
       "      <td>6.0</td>\n",
       "      <td>2013</td>\n",
       "      <td>-165710090</td>\n",
       "    </tr>\n",
       "  </tbody>\n",
       "</table>\n",
       "</div>"
      ],
      "text/plain": [
       "        imdb_id  popularity     budget   revenue   original_title  \\\n",
       "1246  tt1210819     1.21451  255000000  89289910  The Lone Ranger   \n",
       "\n",
       "                                                   cast        director  \\\n",
       "1246  Johnny Depp|Armie Hammer|William Fichtner|Hele...  Gore Verbinski   \n",
       "\n",
       "                      tagline  \\\n",
       "1246  Never Take Off the Mask   \n",
       "\n",
       "                                               overview  runtime  \\\n",
       "1246  The Texas Rangers chase down a gang of outlaws...      149   \n",
       "\n",
       "                        genres  \\\n",
       "1246  Action|Adventure|Western   \n",
       "\n",
       "                                   production_companies release_date  \\\n",
       "1246  Walt Disney Pictures|Jerry Bruckheimer Films|I...     7/3/2013   \n",
       "\n",
       "      vote_count  vote_average  release_year     profit  \n",
       "1246        1607           6.0          2013 -165710090  "
      ]
     },
     "execution_count": 27,
     "metadata": {},
     "output_type": "execute_result"
    }
   ],
   "source": [
    "data_12_14 = data_plus_revenue[(data_plus_revenue.release_year >= 2012) & (data_plus_revenue.release_year <= 2014)]\n",
    "data_12_14[data_12_14.profit == data_12_14.profit.min()]"
   ]
  },
  {
   "cell_type": "code",
   "execution_count": 28,
   "metadata": {},
   "outputs": [],
   "source": [
    "answer_ls.append(5)"
   ]
  },
  {
   "cell_type": "markdown",
   "metadata": {},
   "source": [
    "# 11. Какого жанра фильмов больше всего?\n",
    "Варианты ответов:\n",
    "1. Action\n",
    "2. Adventure\n",
    "3. Drama\n",
    "4. Comedy\n",
    "5. Thriller"
   ]
  },
  {
   "cell_type": "code",
   "execution_count": 30,
   "metadata": {},
   "outputs": [
    {
     "data": {
      "text/plain": [
       "('Drama', 782)"
      ]
     },
     "execution_count": 30,
     "metadata": {},
     "output_type": "execute_result"
    }
   ],
   "source": [
    "cnt = Counter()\n",
    "for item in data.genres:\n",
    "    temp = item.split('|') \n",
    "    for genre in temp:\n",
    "        cnt[genre] += 1\n",
    "cnt.most_common()[0]"
   ]
  },
  {
   "cell_type": "code",
   "execution_count": 31,
   "metadata": {},
   "outputs": [],
   "source": [
    "answer_ls.append(3)"
   ]
  },
  {
   "cell_type": "markdown",
   "metadata": {},
   "source": [
    "# 12. Какого жанра среди прибыльных фильмов больше всего?\n",
    "Варианты ответов:\n",
    "1. Drama\n",
    "2. Comedy\n",
    "3. Action\n",
    "4. Thriller\n",
    "5. Adventure"
   ]
  },
  {
   "cell_type": "code",
   "execution_count": 32,
   "metadata": {},
   "outputs": [
    {
     "data": {
      "text/plain": [
       "('Drama', 560)"
      ]
     },
     "execution_count": 32,
     "metadata": {},
     "output_type": "execute_result"
    }
   ],
   "source": [
    "cnt = Counter()\n",
    "for item in data[data.profit > 0].genres:\n",
    "    temp = item.split('|') \n",
    "    for genre in temp:\n",
    "        cnt[genre] += 1\n",
    "cnt.most_common()[0]"
   ]
  },
  {
   "cell_type": "code",
   "execution_count": 33,
   "metadata": {},
   "outputs": [],
   "source": [
    "answer_ls.append(1)"
   ]
  },
  {
   "cell_type": "markdown",
   "metadata": {},
   "source": [
    "# 13. Кто из режиссеров снял больше всего фильмов?\n",
    "Варианты ответов:\n",
    "1. Steven Spielberg\n",
    "2. Ridley Scott \n",
    "3. Steven Soderbergh\n",
    "4. Christopher Nolan\n",
    "5. Clint Eastwood"
   ]
  },
  {
   "cell_type": "code",
   "execution_count": 34,
   "metadata": {},
   "outputs": [
    {
     "data": {
      "text/plain": [
       "('Steven Soderbergh', 13)"
      ]
     },
     "execution_count": 34,
     "metadata": {},
     "output_type": "execute_result"
    }
   ],
   "source": [
    "cnt = Counter()\n",
    "for item in data.director:\n",
    "    temp = item.split('|') \n",
    "    for genre in temp:\n",
    "        cnt[genre] += 1\n",
    "cnt.most_common()[0]"
   ]
  },
  {
   "cell_type": "code",
   "execution_count": 35,
   "metadata": {},
   "outputs": [],
   "source": [
    "answer_ls.append(3)"
   ]
  },
  {
   "cell_type": "markdown",
   "metadata": {},
   "source": [
    "# 14. Кто из режиссеров снял больше всего Прибыльных фильмов?\n",
    "Варианты ответов:\n",
    "1. Steven Soderbergh\n",
    "2. Clint Eastwood\n",
    "3. Steven Spielberg\n",
    "4. Ridley Scott\n",
    "5. Christopher Nolan"
   ]
  },
  {
   "cell_type": "code",
   "execution_count": 36,
   "metadata": {},
   "outputs": [
    {
     "data": {
      "text/plain": [
       "('Ridley Scott', 12)"
      ]
     },
     "execution_count": 36,
     "metadata": {},
     "output_type": "execute_result"
    }
   ],
   "source": [
    "cnt = Counter()\n",
    "for item in data[data.profit > 0].director:\n",
    "    temp = item.split('|') \n",
    "    for genre in temp:\n",
    "        cnt[genre] += 1\n",
    "cnt.most_common()[0]"
   ]
  },
  {
   "cell_type": "code",
   "execution_count": 37,
   "metadata": {},
   "outputs": [],
   "source": [
    "answer_ls.append(4)"
   ]
  },
  {
   "cell_type": "markdown",
   "metadata": {},
   "source": [
    "# 15. Кто из режиссеров принес больше всего прибыли?\n",
    "Варианты ответов:\n",
    "1. Steven Spielberg\n",
    "2. Christopher Nolan\n",
    "3. David Yates\n",
    "4. James Cameron\n",
    "5. Peter Jackson\n"
   ]
  },
  {
   "cell_type": "code",
   "execution_count": 41,
   "metadata": {
    "scrolled": true
   },
   "outputs": [
    {
     "data": {
      "text/plain": [
       "('Peter Jackson', 5202593685)"
      ]
     },
     "execution_count": 41,
     "metadata": {},
     "output_type": "execute_result"
    }
   ],
   "source": [
    "cnt = Counter()\n",
    "for i in range(0,len(data)):\n",
    "    temp = data.iloc[i]['director'].split('|') \n",
    "    for director in temp:\n",
    "        #print(i, director, data2.iloc[i].profit, data2.iloc[i].original_title)\n",
    "        cnt[director] += data.iloc[i].profit\n",
    "cnt.most_common()[0]"
   ]
  },
  {
   "cell_type": "code",
   "execution_count": 43,
   "metadata": {},
   "outputs": [],
   "source": [
    "answer_ls.append(5)"
   ]
  },
  {
   "cell_type": "code",
   "execution_count": 46,
   "metadata": {},
   "outputs": [
    {
     "data": {
      "text/plain": [
       "15"
      ]
     },
     "execution_count": 46,
     "metadata": {},
     "output_type": "execute_result"
    }
   ],
   "source": [
    "len(answer_ls)"
   ]
  },
  {
   "cell_type": "markdown",
   "metadata": {},
   "source": [
    "# 16. Какой актер принес больше всего прибыли?\n",
    "Варианты ответов:\n",
    "1. Emma Watson\n",
    "2. Johnny Depp\n",
    "3. Michelle Rodriguez\n",
    "4. Orlando Bloom\n",
    "5. Rupert Grint"
   ]
  },
  {
   "cell_type": "code",
   "execution_count": 47,
   "metadata": {},
   "outputs": [
    {
     "data": {
      "text/plain": [
       "('Emma Watson', 6666245597)"
      ]
     },
     "execution_count": 47,
     "metadata": {},
     "output_type": "execute_result"
    }
   ],
   "source": [
    "cnt = Counter()\n",
    "for i in range(0,len(data)):\n",
    "    temp = data.iloc[i]['cast'].split('|') \n",
    "    for actor in temp:\n",
    "        #print(i, director, data2.iloc[i].profit, data2.iloc[i].original_title)\n",
    "        cnt[actor] += data.iloc[i].profit\n",
    "cnt.most_common()[0]"
   ]
  },
  {
   "cell_type": "code",
   "execution_count": 48,
   "metadata": {},
   "outputs": [],
   "source": [
    "answer_ls.append(1)"
   ]
  },
  {
   "cell_type": "markdown",
   "metadata": {},
   "source": [
    "# 17. Какой актер принес меньше всего прибыли в 2012 году?\n",
    "Варианты ответов:\n",
    "1. Nicolas Cage\n",
    "2. Danny Huston\n",
    "3. Kirsten Dunst\n",
    "4. Jim Sturgess\n",
    "5. Sami Gayle"
   ]
  },
  {
   "cell_type": "code",
   "execution_count": 58,
   "metadata": {},
   "outputs": [
    {
     "data": {
      "text/plain": [
       "('Kirsten Dunst', -68109207)"
      ]
     },
     "execution_count": 58,
     "metadata": {},
     "output_type": "execute_result"
    }
   ],
   "source": [
    "cnt = Counter()\n",
    "#data_17 = data2[(data2.profit > 0) & (data2.release_year == 2012)]#.cast.str.split('|').tolist()\n",
    "data_17 = data[data.release_year == 2012]\n",
    "for i in range(0,len(data_17)):\n",
    "   for actor in data_17.iloc[i].cast.split('|'):\n",
    "    cnt[actor] += data_17.iloc[i].profit\n",
    "cnt.most_common()[-1]"
   ]
  },
  {
   "cell_type": "code",
   "execution_count": 59,
   "metadata": {},
   "outputs": [],
   "source": [
    "answer_ls.append(3)"
   ]
  },
  {
   "cell_type": "markdown",
   "metadata": {},
   "source": [
    "# 18. Какой актер снялся в большем количестве высокобюджетных фильмов? (в фильмах где бюджет выше среднего по данной выборке)\n",
    "Варианты ответов:\n",
    "1. Tom Cruise\n",
    "2. Mark Wahlberg \n",
    "3. Matt Damon\n",
    "4. Angelina Jolie\n",
    "5. Adam Sandler"
   ]
  },
  {
   "cell_type": "code",
   "execution_count": 57,
   "metadata": {},
   "outputs": [
    {
     "data": {
      "text/plain": [
       "Matt Damon           18\n",
       "Adam Sandler         17\n",
       "Angelina Jolie       16\n",
       "Tom Cruise           15\n",
       "Samuel L. Jackson    15\n",
       "                     ..\n",
       "Richard Madden        1\n",
       "Lari White            1\n",
       "Tim Blake Nelson      1\n",
       "Alan Rickman          1\n",
       "Diane Keaton          1\n",
       "Length: 1508, dtype: int64"
      ]
     },
     "execution_count": 57,
     "metadata": {},
     "output_type": "execute_result"
    }
   ],
   "source": [
    "data_bb = data[data['budget']>data['budget'].mean()]\n",
    "pd.DataFrame(data_bb.cast.str.split('|').tolist()).stack().value_counts()"
   ]
  },
  {
   "cell_type": "code",
   "execution_count": 60,
   "metadata": {},
   "outputs": [],
   "source": [
    "answer_ls.append(3)"
   ]
  },
  {
   "cell_type": "markdown",
   "metadata": {},
   "source": [
    "# 19. В фильмах какого жанра больше всего снимался Nicolas Cage?  \n",
    "Варианты ответа:\n",
    "1. Drama\n",
    "2. Action\n",
    "3. Thriller\n",
    "4. Adventure\n",
    "5. Crime"
   ]
  },
  {
   "cell_type": "code",
   "execution_count": 61,
   "metadata": {},
   "outputs": [
    {
     "data": {
      "text/plain": [
       "Action             17\n",
       "Thriller           15\n",
       "Drama              12\n",
       "Crime              10\n",
       "Fantasy             8\n",
       "Adventure           7\n",
       "Comedy              6\n",
       "Science Fiction     4\n",
       "Mystery             3\n",
       "Family              3\n",
       "Animation           3\n",
       "History             2\n",
       "Romance             1\n",
       "Horror              1\n",
       "War                 1\n",
       "dtype: int64"
      ]
     },
     "execution_count": 61,
     "metadata": {},
     "output_type": "execute_result"
    }
   ],
   "source": [
    "data_nc = data[data.cast.str.contains('Nicolas Cage')]\n",
    "pd.DataFrame(data_nc.genres.str.split('|').tolist()).stack().value_counts()"
   ]
  },
  {
   "cell_type": "code",
   "execution_count": 62,
   "metadata": {},
   "outputs": [],
   "source": [
    "answer_ls.append(2)"
   ]
  },
  {
   "cell_type": "markdown",
   "metadata": {},
   "source": [
    "# 20. Какая студия сняла больше всего фильмов?\n",
    "Варианты ответа:\n",
    "1. Universal Pictures (Universal)\n",
    "2. Paramount Pictures\n",
    "3. Columbia Pictures\n",
    "4. Warner Bros\n",
    "5. Twentieth Century Fox Film Corporation"
   ]
  },
  {
   "cell_type": "code",
   "execution_count": 63,
   "metadata": {},
   "outputs": [
    {
     "data": {
      "text/plain": [
       "Universal Pictures                        173\n",
       "Warner Bros.                              168\n",
       "Paramount Pictures                        122\n",
       "Columbia Pictures                         117\n",
       "Twentieth Century Fox Film Corporation    109\n",
       "                                         ... \n",
       "Smokewood Entertainment Group               1\n",
       "Milk & Honey                                1\n",
       "Mystery Clock Cinema                        1\n",
       "Eketahuna LLC                               1\n",
       "Eagle Vision Inc.                           1\n",
       "Length: 1772, dtype: int64"
      ]
     },
     "execution_count": 63,
     "metadata": {},
     "output_type": "execute_result"
    }
   ],
   "source": [
    "pd.DataFrame(data.production_companies.str.split('|').tolist()).stack().value_counts()"
   ]
  },
  {
   "cell_type": "code",
   "execution_count": 64,
   "metadata": {},
   "outputs": [],
   "source": [
    "answer_ls.append(1)"
   ]
  },
  {
   "cell_type": "markdown",
   "metadata": {},
   "source": [
    "# 21. Какая студия сняла больше всего фильмов в 2015 году?\n",
    "Варианты ответа:\n",
    "1. Universal Pictures\n",
    "2. Paramount Pictures\n",
    "3. Columbia Pictures\n",
    "4. Warner Bros\n",
    "5. Twentieth Century Fox Film Corporation"
   ]
  },
  {
   "cell_type": "code",
   "execution_count": 65,
   "metadata": {},
   "outputs": [
    {
     "data": {
      "text/plain": [
       "Warner Bros.                              12\n",
       "Universal Pictures                        10\n",
       "Twentieth Century Fox Film Corporation     8\n",
       "Paramount Pictures                         7\n",
       "Columbia Pictures                          7\n",
       "                                          ..\n",
       "CatchPlay                                  1\n",
       "TC Productions                             1\n",
       "DNA Films                                  1\n",
       "Inimitable Pictures                        1\n",
       "STX Entertainment                          1\n",
       "Length: 246, dtype: int64"
      ]
     },
     "execution_count": 65,
     "metadata": {},
     "output_type": "execute_result"
    }
   ],
   "source": [
    "data_2015 = data[data.release_year == 2015]\n",
    "pd.DataFrame(data_2015.production_companies.str.split('|').tolist()).stack().value_counts()"
   ]
  },
  {
   "cell_type": "code",
   "execution_count": 66,
   "metadata": {},
   "outputs": [],
   "source": [
    "answer_ls.append(4)"
   ]
  },
  {
   "cell_type": "markdown",
   "metadata": {},
   "source": [
    "# 22. Какая студия заработала больше всего денег в жанре комедий за все время?\n",
    "Варианты ответа:\n",
    "1. Warner Bros\n",
    "2. Universal Pictures (Universal)\n",
    "3. Columbia Pictures\n",
    "4. Paramount Pictures\n",
    "5. Walt Disney"
   ]
  },
  {
   "cell_type": "code",
   "execution_count": null,
   "metadata": {},
   "outputs": [],
   "source": [
    "# 22. Какая студия заработала больше всего денег в жанре комедий за все время?\n",
    "Варианты ответа:\n",
    "1. Warner Bros\n",
    "2. Universal Pictures (Universal)\n",
    "3. Columbia Pictures\n",
    "4. Paramount Pictures\n",
    "5. Walt Disney"
   ]
  },
  {
   "cell_type": "code",
   "execution_count": 67,
   "metadata": {},
   "outputs": [],
   "source": [
    "answer_ls.append(2)"
   ]
  },
  {
   "cell_type": "markdown",
   "metadata": {},
   "source": [
    "# 23. Какая студия заработала больше всего денег в 2012 году?\n",
    "Варианты ответа:\n",
    "1. Universal Pictures (Universal)\n",
    "2. Warner Bros\n",
    "3. Columbia Pictures\n",
    "4. Paramount Pictures\n",
    "5. Lucasfilm"
   ]
  },
  {
   "cell_type": "code",
   "execution_count": 69,
   "metadata": {},
   "outputs": [
    {
     "data": {
      "text/plain": [
       "('Columbia Pictures', 2501406608)"
      ]
     },
     "execution_count": 69,
     "metadata": {},
     "output_type": "execute_result"
    }
   ],
   "source": [
    "data_2012 = data[data.release_year == 2012]\n",
    "cnt = Counter()\n",
    "for i in range (0, len(data_2012)):\n",
    "    for company in data_2012.iloc[i].production_companies.split('|'):\n",
    "        cnt [company] += data_2012.iloc[i].profit\n",
    "cnt.most_common()[0]"
   ]
  },
  {
   "cell_type": "code",
   "execution_count": 70,
   "metadata": {},
   "outputs": [],
   "source": [
    "answer_ls.append(3)"
   ]
  },
  {
   "cell_type": "markdown",
   "metadata": {},
   "source": [
    "# 24. Самый убыточный фильм от Paramount Pictures\n",
    "Варианты ответа:\n",
    "\n",
    "1. K-19: The Widowmaker tt0267626\n",
    "2. Next tt0435705\n",
    "3. Twisted tt0315297\n",
    "4. The Love Guru tt0811138\n",
    "5. The Fighter tt0964517"
   ]
  },
  {
   "cell_type": "code",
   "execution_count": 72,
   "metadata": {},
   "outputs": [
    {
     "data": {
      "text/html": [
       "<div>\n",
       "<style scoped>\n",
       "    .dataframe tbody tr th:only-of-type {\n",
       "        vertical-align: middle;\n",
       "    }\n",
       "\n",
       "    .dataframe tbody tr th {\n",
       "        vertical-align: top;\n",
       "    }\n",
       "\n",
       "    .dataframe thead th {\n",
       "        text-align: right;\n",
       "    }\n",
       "</style>\n",
       "<table border=\"1\" class=\"dataframe\">\n",
       "  <thead>\n",
       "    <tr style=\"text-align: right;\">\n",
       "      <th></th>\n",
       "      <th>imdb_id</th>\n",
       "      <th>popularity</th>\n",
       "      <th>budget</th>\n",
       "      <th>revenue</th>\n",
       "      <th>original_title</th>\n",
       "      <th>cast</th>\n",
       "      <th>director</th>\n",
       "      <th>tagline</th>\n",
       "      <th>overview</th>\n",
       "      <th>runtime</th>\n",
       "      <th>genres</th>\n",
       "      <th>production_companies</th>\n",
       "      <th>release_date</th>\n",
       "      <th>vote_count</th>\n",
       "      <th>vote_average</th>\n",
       "      <th>release_year</th>\n",
       "      <th>profit</th>\n",
       "    </tr>\n",
       "  </thead>\n",
       "  <tbody>\n",
       "    <tr>\n",
       "      <td>926</td>\n",
       "      <td>tt0267626</td>\n",
       "      <td>0.72233</td>\n",
       "      <td>100000000</td>\n",
       "      <td>35168966</td>\n",
       "      <td>K-19: The Widowmaker</td>\n",
       "      <td>Harrison Ford|Liam Neeson|Peter Sarsgaard|Joss...</td>\n",
       "      <td>Kathryn Bigelow</td>\n",
       "      <td>Fate has found its hero.</td>\n",
       "      <td>When Russia's first nuclear submarine malfunct...</td>\n",
       "      <td>138</td>\n",
       "      <td>Thriller|Drama|History</td>\n",
       "      <td>Paramount Pictures|Intermedia Films|National G...</td>\n",
       "      <td>7/19/2002</td>\n",
       "      <td>146</td>\n",
       "      <td>6.0</td>\n",
       "      <td>2002</td>\n",
       "      <td>-64831034</td>\n",
       "    </tr>\n",
       "  </tbody>\n",
       "</table>\n",
       "</div>"
      ],
      "text/plain": [
       "       imdb_id  popularity     budget   revenue        original_title  \\\n",
       "926  tt0267626     0.72233  100000000  35168966  K-19: The Widowmaker   \n",
       "\n",
       "                                                  cast         director  \\\n",
       "926  Harrison Ford|Liam Neeson|Peter Sarsgaard|Joss...  Kathryn Bigelow   \n",
       "\n",
       "                      tagline  \\\n",
       "926  Fate has found its hero.   \n",
       "\n",
       "                                              overview  runtime  \\\n",
       "926  When Russia's first nuclear submarine malfunct...      138   \n",
       "\n",
       "                     genres  \\\n",
       "926  Thriller|Drama|History   \n",
       "\n",
       "                                  production_companies release_date  \\\n",
       "926  Paramount Pictures|Intermedia Films|National G...    7/19/2002   \n",
       "\n",
       "     vote_count  vote_average  release_year    profit  \n",
       "926         146           6.0          2002 -64831034  "
      ]
     },
     "execution_count": 72,
     "metadata": {},
     "output_type": "execute_result"
    }
   ],
   "source": [
    "data_pp = data[data.production_companies.str.contains('Paramount Pictures')]\n",
    "data_pp[data_pp.profit == data_pp.profit.min()]"
   ]
  },
  {
   "cell_type": "code",
   "execution_count": 73,
   "metadata": {},
   "outputs": [],
   "source": [
    "answer_ls.append(1)"
   ]
  },
  {
   "cell_type": "markdown",
   "metadata": {},
   "source": [
    "# 25. Какой Самый прибыльный год (заработали больше всего)?\n",
    "Варианты ответа:\n",
    "1. 2014\n",
    "2. 2008\n",
    "3. 2012\n",
    "4. 2002\n",
    "5. 2015"
   ]
  },
  {
   "cell_type": "code",
   "execution_count": 74,
   "metadata": {},
   "outputs": [
    {
     "data": {
      "text/plain": [
       "release_year\n",
       "2015    18668572378\n",
       "2014    16397812953\n",
       "2012    16077001687\n",
       "2013    15243179791\n",
       "2011    14730241341\n",
       "2009    13423744372\n",
       "2010    13117292530\n",
       "2008    11663881990\n",
       "2007    11565911801\n",
       "2004     9634180720\n",
       "2003     9228823312\n",
       "2002     9002361487\n",
       "2005     8981925558\n",
       "2006     8691077320\n",
       "2001     7950614865\n",
       "2000     6101399805\n",
       "Name: profit, dtype: int64"
      ]
     },
     "execution_count": 74,
     "metadata": {},
     "output_type": "execute_result"
    }
   ],
   "source": [
    "data.groupby('release_year').profit.sum().sort_values(ascending = False)"
   ]
  },
  {
   "cell_type": "code",
   "execution_count": 75,
   "metadata": {},
   "outputs": [],
   "source": [
    "answer_ls.append(5)"
   ]
  },
  {
   "cell_type": "markdown",
   "metadata": {},
   "source": [
    "# 26. Какой Самый прибыльный год для студии Warner Bros?\n",
    "Варианты ответа:\n",
    "1. 2014\n",
    "2. 2008\n",
    "3. 2012\n",
    "4. 2010\n",
    "5. 2015"
   ]
  },
  {
   "cell_type": "code",
   "execution_count": 76,
   "metadata": {},
   "outputs": [
    {
     "data": {
      "text/plain": [
       "release_year\n",
       "2014    2295464519\n",
       "2007    2201675217\n",
       "2008    2134595031\n",
       "2010    1974712985\n",
       "2011    1871393682\n",
       "2003    1855493377\n",
       "2009    1822454136\n",
       "2013    1636453400\n",
       "2004    1631933725\n",
       "2005    1551980298\n",
       "2001    1343545668\n",
       "2012    1258020056\n",
       "2002    1022709901\n",
       "2015     870368348\n",
       "2006     620170743\n",
       "2000     452631386\n",
       "Name: profit, dtype: int64"
      ]
     },
     "execution_count": 76,
     "metadata": {},
     "output_type": "execute_result"
    }
   ],
   "source": [
    "data_wb = data[data.production_companies.str.contains('Warner Bros')]\n",
    "data_wb.groupby('release_year').profit.sum().sort_values(ascending = False)"
   ]
  },
  {
   "cell_type": "code",
   "execution_count": 77,
   "metadata": {},
   "outputs": [],
   "source": [
    "answer_ls.append(1)"
   ]
  },
  {
   "cell_type": "markdown",
   "metadata": {},
   "source": [
    "# 27. В каком месяце за все годы суммарно вышло больше всего фильмов?\n",
    "Варианты ответа:\n",
    "1. Январь\n",
    "2. Июнь\n",
    "3. Декабрь\n",
    "4. Сентябрь\n",
    "5. Май"
   ]
  },
  {
   "cell_type": "code",
   "execution_count": 78,
   "metadata": {},
   "outputs": [
    {
     "data": {
      "text/plain": [
       "month\n",
       "1     110\n",
       "2     135\n",
       "5     140\n",
       "7     142\n",
       "11    146\n",
       "6     147\n",
       "4     149\n",
       "3     156\n",
       "8     161\n",
       "10    186\n",
       "12    191\n",
       "9     227\n",
       "Name: genres, dtype: int64"
      ]
     },
     "execution_count": 78,
     "metadata": {},
     "output_type": "execute_result"
    }
   ],
   "source": [
    "#month = data2.release_date[data2.release_date.str.split('/')[0]]\n",
    "month = pd.DataFrame(data.release_date.str.split('/').tolist()).stack().loc[(slice(None),0)]\n",
    "data3 = data\n",
    "data['month'] = month\n",
    "data.groupby('month').count().genres.sort_values()"
   ]
  },
  {
   "cell_type": "code",
   "execution_count": 79,
   "metadata": {},
   "outputs": [],
   "source": [
    "answer_ls.append(4)"
   ]
  },
  {
   "cell_type": "markdown",
   "metadata": {},
   "source": [
    "# 28. Сколько суммарно вышло фильмов летом? (за июнь, июль, август)\n",
    "Варианты ответа:\n",
    "1. 345\n",
    "2. 450\n",
    "3. 478\n",
    "4. 523\n",
    "5. 381"
   ]
  },
  {
   "cell_type": "code",
   "execution_count": 80,
   "metadata": {},
   "outputs": [
    {
     "data": {
      "text/plain": [
       "450"
      ]
     },
     "execution_count": 80,
     "metadata": {},
     "output_type": "execute_result"
    }
   ],
   "source": [
    "data3[data3.month.isin(['6','7','8'])].groupby('month').count().genres.sum()"
   ]
  },
  {
   "cell_type": "code",
   "execution_count": 81,
   "metadata": {},
   "outputs": [],
   "source": [
    "answer_ls.append(2)"
   ]
  },
  {
   "cell_type": "markdown",
   "metadata": {},
   "source": [
    "# 29. Какой режисер выпускает (суммарно по годам) больше всего фильмов зимой?\n",
    "Варианты ответов:\n",
    "1. Steven Soderbergh\n",
    "2. Christopher Nolan\n",
    "3. Clint Eastwood\n",
    "4. Ridley Scott\n",
    "5. Peter Jackson"
   ]
  },
  {
   "cell_type": "code",
   "execution_count": 82,
   "metadata": {},
   "outputs": [
    {
     "data": {
      "text/plain": [
       "Peter Jackson        7\n",
       "Steven Soderbergh    6\n",
       "Clint Eastwood       6\n",
       "Nancy Meyers         4\n",
       "Martin Scorsese      4\n",
       "                    ..\n",
       "Donovan Cook         1\n",
       "Gus Van Sant         1\n",
       "Mike Mitchell        1\n",
       "Mark Neveldine       1\n",
       "Kelly Asbury         1\n",
       "Length: 359, dtype: int64"
      ]
     },
     "execution_count": 82,
     "metadata": {},
     "output_type": "execute_result"
    }
   ],
   "source": [
    "data_winter = data3[data3.month.isin(['1','2','12'])]\n",
    "pd.DataFrame(data_winter.director.str.split('|').tolist()).stack().value_counts()"
   ]
  },
  {
   "cell_type": "code",
   "execution_count": 83,
   "metadata": {},
   "outputs": [],
   "source": [
    "answer_ls.append(5)"
   ]
  },
  {
   "cell_type": "markdown",
   "metadata": {},
   "source": [
    "# 30. Какой месяц чаще всего по годам самый прибыльный?\n",
    "Варианты ответа:\n",
    "1. Январь\n",
    "2. Июнь\n",
    "3. Декабрь\n",
    "4. Сентябрь\n",
    "5. Май"
   ]
  },
  {
   "cell_type": "code",
   "execution_count": 84,
   "metadata": {},
   "outputs": [
    {
     "data": {
      "text/plain": [
       "month\n",
       "6     27551262500\n",
       "12    26563071474\n",
       "5     25039516141\n",
       "11    18654155473\n",
       "7     18307895020\n",
       "3     13720216540\n",
       "10    12994907859\n",
       "4     12876005537\n",
       "9     10878921041\n",
       "8      9640610446\n",
       "2      8854574425\n",
       "1      5396885454\n",
       "Name: profit, dtype: int64"
      ]
     },
     "execution_count": 84,
     "metadata": {},
     "output_type": "execute_result"
    }
   ],
   "source": [
    "data3.groupby(['release_year','month']).profit.sum().to_frame().groupby('month').profit.sum().sort_values(ascending = False)"
   ]
  },
  {
   "cell_type": "code",
   "execution_count": 85,
   "metadata": {},
   "outputs": [],
   "source": [
    "answer_ls.append(2)"
   ]
  },
  {
   "cell_type": "markdown",
   "metadata": {},
   "source": [
    "# 31. Названия фильмов какой студии в среднем самые длинные по количеству символов?\n",
    "Варианты ответа:\n",
    "1. Universal Pictures (Universal)\n",
    "2. Warner Bros\n",
    "3. Jim Henson Company, The\n",
    "4. Paramount Pictures\n",
    "5. Four By Two Productions"
   ]
  },
  {
   "cell_type": "code",
   "execution_count": 86,
   "metadata": {},
   "outputs": [
    {
     "data": {
      "text/plain": [
       "'Four By Two Productions'"
      ]
     },
     "execution_count": 86,
     "metadata": {},
     "output_type": "execute_result"
    }
   ],
   "source": [
    "data4 = data3\n",
    "data4['title_lenght'] = data3.original_title.str.len()\n",
    "cnt = Counter()\n",
    "movies_number = Counter()\n",
    "for i in range (0, len(data4)):\n",
    "    for company in data4.iloc[i].production_companies.split('|'):\n",
    "        cnt [company] += data4.iloc[i].title_lenght\n",
    "        movies_number[company] += 1\n",
    "mean_films_title = {}\n",
    "for item in movies_number:\n",
    "    mean_films_title [item] = cnt [item] / movies_number [item]\n",
    "max(mean_films_title, key=mean_films_title.get)"
   ]
  },
  {
   "cell_type": "code",
   "execution_count": 87,
   "metadata": {},
   "outputs": [],
   "source": [
    "answer_ls.append(5)"
   ]
  },
  {
   "cell_type": "markdown",
   "metadata": {},
   "source": [
    "# 32. Названия фильмов какой студии в среднем самые длинные по количеству слов?\n",
    "Варианты ответа:\n",
    "1. Universal Pictures (Universal)\n",
    "2. Warner Bros\n",
    "3. Jim Henson Company, The\n",
    "4. Paramount Pictures\n",
    "5. Four By Two Productions"
   ]
  },
  {
   "cell_type": "code",
   "execution_count": 88,
   "metadata": {},
   "outputs": [
    {
     "data": {
      "text/plain": [
       "'Four By Two Productions'"
      ]
     },
     "execution_count": 88,
     "metadata": {},
     "output_type": "execute_result"
    }
   ],
   "source": [
    "words_in_title = data3.original_title.str.split(' ').tolist()\n",
    "number_of_words = []\n",
    "for item in words_in_title:\n",
    "    number_of_words.append(len(item))\n",
    "\n",
    "data5 = data4\n",
    "data5['number_of_words'] = number_of_words\n",
    "\n",
    "cnt = Counter()\n",
    "movies_number = Counter()\n",
    "for i in range (0, len(data5)):\n",
    "    for company in data5.iloc[i].production_companies.split('|'):\n",
    "        cnt [company] += data5.iloc[i].number_of_words\n",
    "        movies_number[company] += 1\n",
    "mean_words_in_title = {}\n",
    "for item in movies_number:\n",
    "    mean_words_in_title [item] = cnt [item] / movies_number [item]\n",
    "    \n",
    "max(mean_words_in_title, key=mean_words_in_title.get)"
   ]
  },
  {
   "cell_type": "code",
   "execution_count": 89,
   "metadata": {},
   "outputs": [],
   "source": [
    "answer_ls.append(5)"
   ]
  },
  {
   "cell_type": "markdown",
   "metadata": {},
   "source": [
    "# 33. Сколько разных слов используется в названиях фильмов?(без учета регистра)\n",
    "Варианты ответа:\n",
    "1. 6540\n",
    "2. 1002\n",
    "3. 2461\n",
    "4. 28304\n",
    "5. 3432"
   ]
  },
  {
   "cell_type": "code",
   "execution_count": 90,
   "metadata": {},
   "outputs": [
    {
     "data": {
      "text/plain": [
       "2462"
      ]
     },
     "execution_count": 90,
     "metadata": {},
     "output_type": "execute_result"
    }
   ],
   "source": [
    "words_in_titles = pd.DataFrame(data3.original_title.str.split(' ').tolist()).stack()\n",
    "\n",
    "words = {}\n",
    "for item in words_in_titles:\n",
    "    word = item.lower()\n",
    "    if word not in words:\n",
    "        words[word] = 1\n",
    "    else:\n",
    "        words[word] += 1\n",
    "        \n",
    "len(words)"
   ]
  },
  {
   "cell_type": "code",
   "execution_count": 91,
   "metadata": {},
   "outputs": [],
   "source": [
    "answer_ls.append(3)"
   ]
  },
  {
   "cell_type": "markdown",
   "metadata": {},
   "source": [
    "# 34. Какие фильмы входят в 1 процент лучших по рейтингу?\n",
    "Варианты ответа:\n",
    "1. Inside Out, Gone Girl, 12 Years a Slave\n",
    "2. BloodRayne, The Adventures of Rocky & Bullwinkle\n",
    "3. The Lord of the Rings: The Return of the King\n",
    "4. 300, Lucky Number Slevin"
   ]
  },
  {
   "cell_type": "code",
   "execution_count": 93,
   "metadata": {
    "scrolled": true
   },
   "outputs": [
    {
     "data": {
      "text/plain": [
       "['Inside Out',\n",
       " 'Room',\n",
       " 'Interstellar',\n",
       " 'Guardians of the Galaxy',\n",
       " 'The Imitation Game',\n",
       " 'Gone Girl',\n",
       " 'The Grand Budapest Hotel',\n",
       " 'Inception',\n",
       " 'The Dark Knight',\n",
       " 'The Pianist',\n",
       " 'The Lord of the Rings: The Return of the King',\n",
       " 'The Wolf of Wall Street',\n",
       " '12 Years a Slave',\n",
       " 'Memento']"
      ]
     },
     "execution_count": 93,
     "metadata": {},
     "output_type": "execute_result"
    }
   ],
   "source": [
    "data5[data5['vote_average'] > data5.quantile(0.99, numeric_only=True)['vote_average']].original_title.tolist()"
   ]
  },
  {
   "cell_type": "code",
   "execution_count": 94,
   "metadata": {},
   "outputs": [],
   "source": [
    "answer_ls.append(1)"
   ]
  },
  {
   "cell_type": "markdown",
   "metadata": {},
   "source": [
    "# 35. Какие актеры чаще всего снимаются в одном фильме вместе\n",
    "Варианты ответа:\n",
    "1. Johnny Depp & Helena Bonham Carter\n",
    "2. Hugh Jackman & Ian McKellen\n",
    "3. Vin Diesel & Paul Walker\n",
    "4. Adam Sandler & Kevin James\n",
    "5. Daniel Radcliffe & Rupert Grint"
   ]
  },
  {
   "cell_type": "code",
   "execution_count": 95,
   "metadata": {},
   "outputs": [
    {
     "data": {
      "text/plain": [
       "'Daniel Radcliffe & Rupert Grint'"
      ]
     },
     "execution_count": 95,
     "metadata": {},
     "output_type": "execute_result"
    }
   ],
   "source": [
    "def pairs_of_items(string, pairs_list, separator):\n",
    "    temp = string.split(separator)\n",
    "    if separator not in string:\n",
    "        return pairs_list\n",
    "    for i in range(0, len(temp)):\n",
    "        for j in range(i + 1, len(temp)):\n",
    "            pair = temp[i] + ' & ' + temp[j]\n",
    "            if (pair) in pairs_list:\n",
    "                pairs_list[pair] += 1\n",
    "            else:\n",
    "                pairs_list[pair] = 1\n",
    "    return pairs_list\n",
    "\n",
    "pairs = {}\n",
    "for item in data5.cast:\n",
    "    pairs = pairs_of_items(item, pairs, '|')\n",
    "\n",
    "max(pairs,key = pairs.get)"
   ]
  },
  {
   "cell_type": "code",
   "execution_count": 96,
   "metadata": {},
   "outputs": [],
   "source": [
    "answer_ls.append(5)"
   ]
  },
  {
   "cell_type": "markdown",
   "metadata": {},
   "source": [
    "# 36. У какого из режиссеров выше вероятность выпустить фильм в прибыли? (5 баллов)101\n",
    "Варианты ответа:\n",
    "1. Quentin Tarantino\n",
    "2. Steven Soderbergh\n",
    "3. Robert Rodriguez\n",
    "4. Christopher Nolan\n",
    "5. Clint Eastwood"
   ]
  },
  {
   "cell_type": "code",
   "execution_count": 98,
   "metadata": {},
   "outputs": [
    {
     "name": "stdout",
     "output_type": "stream",
     "text": [
      "Steven Soderbergh 0.7692307692307693\n",
      "Clint Eastwood 0.8333333333333334\n",
      "Christopher Nolan 1.0\n",
      "Robert Rodriguez 0.7272727272727273\n",
      "Quentin Tarantino 0.8571428571428571\n"
     ]
    }
   ],
   "source": [
    "data6_profitable = data5[data5.profit > 0]\n",
    "filmography = pd.DataFrame(data5.director.str.split('|').tolist()).stack().value_counts()\n",
    "filmography_profitable = pd.DataFrame(data6_profitable.director.str.split('|').tolist()).stack().value_counts()\n",
    "\n",
    "directors = ['Quentin Tarantino', 'Steven Soderbergh', 'Robert Rodriguez', 'Christopher Nolan', 'Clint Eastwood']\n",
    "for director, value in filmography_profitable.items():\n",
    "    if director in directors:\n",
    "        print(director, filmography_profitable[director] / filmography[director])"
   ]
  },
  {
   "cell_type": "code",
   "execution_count": 99,
   "metadata": {},
   "outputs": [],
   "source": [
    "answer_ls.append(4)"
   ]
  },
  {
   "cell_type": "markdown",
   "metadata": {},
   "source": [
    "# Submission"
   ]
  },
  {
   "cell_type": "code",
   "execution_count": 100,
   "metadata": {},
   "outputs": [
    {
     "data": {
      "text/plain": [
       "36"
      ]
     },
     "execution_count": 100,
     "metadata": {},
     "output_type": "execute_result"
    }
   ],
   "source": [
    "len(answer_ls)"
   ]
  },
  {
   "cell_type": "code",
   "execution_count": 101,
   "metadata": {},
   "outputs": [
    {
     "data": {
      "text/html": [
       "<div>\n",
       "<style scoped>\n",
       "    .dataframe tbody tr th:only-of-type {\n",
       "        vertical-align: middle;\n",
       "    }\n",
       "\n",
       "    .dataframe tbody tr th {\n",
       "        vertical-align: top;\n",
       "    }\n",
       "\n",
       "    .dataframe thead th {\n",
       "        text-align: right;\n",
       "    }\n",
       "</style>\n",
       "<table border=\"1\" class=\"dataframe\">\n",
       "  <thead>\n",
       "    <tr style=\"text-align: right;\">\n",
       "      <th></th>\n",
       "      <th>Id</th>\n",
       "      <th>Answer</th>\n",
       "    </tr>\n",
       "  </thead>\n",
       "  <tbody>\n",
       "    <tr>\n",
       "      <td>0</td>\n",
       "      <td>1</td>\n",
       "      <td>4</td>\n",
       "    </tr>\n",
       "    <tr>\n",
       "      <td>1</td>\n",
       "      <td>2</td>\n",
       "      <td>2</td>\n",
       "    </tr>\n",
       "    <tr>\n",
       "      <td>2</td>\n",
       "      <td>3</td>\n",
       "      <td>3</td>\n",
       "    </tr>\n",
       "    <tr>\n",
       "      <td>3</td>\n",
       "      <td>4</td>\n",
       "      <td>2</td>\n",
       "    </tr>\n",
       "    <tr>\n",
       "      <td>4</td>\n",
       "      <td>5</td>\n",
       "      <td>1</td>\n",
       "    </tr>\n",
       "    <tr>\n",
       "      <td>5</td>\n",
       "      <td>6</td>\n",
       "      <td>5</td>\n",
       "    </tr>\n",
       "    <tr>\n",
       "      <td>6</td>\n",
       "      <td>7</td>\n",
       "      <td>2</td>\n",
       "    </tr>\n",
       "    <tr>\n",
       "      <td>7</td>\n",
       "      <td>8</td>\n",
       "      <td>1</td>\n",
       "    </tr>\n",
       "    <tr>\n",
       "      <td>8</td>\n",
       "      <td>9</td>\n",
       "      <td>4</td>\n",
       "    </tr>\n",
       "    <tr>\n",
       "      <td>9</td>\n",
       "      <td>10</td>\n",
       "      <td>5</td>\n",
       "    </tr>\n",
       "    <tr>\n",
       "      <td>10</td>\n",
       "      <td>11</td>\n",
       "      <td>3</td>\n",
       "    </tr>\n",
       "    <tr>\n",
       "      <td>11</td>\n",
       "      <td>12</td>\n",
       "      <td>1</td>\n",
       "    </tr>\n",
       "    <tr>\n",
       "      <td>12</td>\n",
       "      <td>13</td>\n",
       "      <td>3</td>\n",
       "    </tr>\n",
       "    <tr>\n",
       "      <td>13</td>\n",
       "      <td>14</td>\n",
       "      <td>4</td>\n",
       "    </tr>\n",
       "    <tr>\n",
       "      <td>14</td>\n",
       "      <td>15</td>\n",
       "      <td>5</td>\n",
       "    </tr>\n",
       "    <tr>\n",
       "      <td>15</td>\n",
       "      <td>16</td>\n",
       "      <td>1</td>\n",
       "    </tr>\n",
       "    <tr>\n",
       "      <td>16</td>\n",
       "      <td>17</td>\n",
       "      <td>3</td>\n",
       "    </tr>\n",
       "    <tr>\n",
       "      <td>17</td>\n",
       "      <td>18</td>\n",
       "      <td>3</td>\n",
       "    </tr>\n",
       "    <tr>\n",
       "      <td>18</td>\n",
       "      <td>19</td>\n",
       "      <td>2</td>\n",
       "    </tr>\n",
       "    <tr>\n",
       "      <td>19</td>\n",
       "      <td>20</td>\n",
       "      <td>1</td>\n",
       "    </tr>\n",
       "    <tr>\n",
       "      <td>20</td>\n",
       "      <td>21</td>\n",
       "      <td>4</td>\n",
       "    </tr>\n",
       "    <tr>\n",
       "      <td>21</td>\n",
       "      <td>22</td>\n",
       "      <td>2</td>\n",
       "    </tr>\n",
       "    <tr>\n",
       "      <td>22</td>\n",
       "      <td>23</td>\n",
       "      <td>3</td>\n",
       "    </tr>\n",
       "    <tr>\n",
       "      <td>23</td>\n",
       "      <td>24</td>\n",
       "      <td>1</td>\n",
       "    </tr>\n",
       "    <tr>\n",
       "      <td>24</td>\n",
       "      <td>25</td>\n",
       "      <td>5</td>\n",
       "    </tr>\n",
       "    <tr>\n",
       "      <td>25</td>\n",
       "      <td>26</td>\n",
       "      <td>1</td>\n",
       "    </tr>\n",
       "    <tr>\n",
       "      <td>26</td>\n",
       "      <td>27</td>\n",
       "      <td>4</td>\n",
       "    </tr>\n",
       "    <tr>\n",
       "      <td>27</td>\n",
       "      <td>28</td>\n",
       "      <td>2</td>\n",
       "    </tr>\n",
       "    <tr>\n",
       "      <td>28</td>\n",
       "      <td>29</td>\n",
       "      <td>5</td>\n",
       "    </tr>\n",
       "    <tr>\n",
       "      <td>29</td>\n",
       "      <td>30</td>\n",
       "      <td>2</td>\n",
       "    </tr>\n",
       "    <tr>\n",
       "      <td>30</td>\n",
       "      <td>31</td>\n",
       "      <td>5</td>\n",
       "    </tr>\n",
       "    <tr>\n",
       "      <td>31</td>\n",
       "      <td>32</td>\n",
       "      <td>5</td>\n",
       "    </tr>\n",
       "    <tr>\n",
       "      <td>32</td>\n",
       "      <td>33</td>\n",
       "      <td>3</td>\n",
       "    </tr>\n",
       "    <tr>\n",
       "      <td>33</td>\n",
       "      <td>34</td>\n",
       "      <td>1</td>\n",
       "    </tr>\n",
       "    <tr>\n",
       "      <td>34</td>\n",
       "      <td>35</td>\n",
       "      <td>5</td>\n",
       "    </tr>\n",
       "    <tr>\n",
       "      <td>35</td>\n",
       "      <td>36</td>\n",
       "      <td>4</td>\n",
       "    </tr>\n",
       "  </tbody>\n",
       "</table>\n",
       "</div>"
      ],
      "text/plain": [
       "    Id  Answer\n",
       "0    1       4\n",
       "1    2       2\n",
       "2    3       3\n",
       "3    4       2\n",
       "4    5       1\n",
       "5    6       5\n",
       "6    7       2\n",
       "7    8       1\n",
       "8    9       4\n",
       "9   10       5\n",
       "10  11       3\n",
       "11  12       1\n",
       "12  13       3\n",
       "13  14       4\n",
       "14  15       5\n",
       "15  16       1\n",
       "16  17       3\n",
       "17  18       3\n",
       "18  19       2\n",
       "19  20       1\n",
       "20  21       4\n",
       "21  22       2\n",
       "22  23       3\n",
       "23  24       1\n",
       "24  25       5\n",
       "25  26       1\n",
       "26  27       4\n",
       "27  28       2\n",
       "28  29       5\n",
       "29  30       2\n",
       "30  31       5\n",
       "31  32       5\n",
       "32  33       3\n",
       "33  34       1\n",
       "34  35       5\n",
       "35  36       4"
      ]
     },
     "execution_count": 101,
     "metadata": {},
     "output_type": "execute_result"
    }
   ],
   "source": [
    "pd.DataFrame({'Id':range(1,len(answer_ls)+1), 'Answer':answer_ls}, columns=['Id', 'Answer'])"
   ]
  },
  {
   "cell_type": "code",
   "execution_count": null,
   "metadata": {},
   "outputs": [],
   "source": []
  }
 ],
 "metadata": {
  "kernelspec": {
   "display_name": "Python 3",
   "language": "python",
   "name": "python3"
  },
  "language_info": {
   "codemirror_mode": {
    "name": "ipython",
    "version": 3
   },
   "file_extension": ".py",
   "mimetype": "text/x-python",
   "name": "python",
   "nbconvert_exporter": "python",
   "pygments_lexer": "ipython3",
   "version": "3.7.4"
  }
 },
 "nbformat": 4,
 "nbformat_minor": 4
}
